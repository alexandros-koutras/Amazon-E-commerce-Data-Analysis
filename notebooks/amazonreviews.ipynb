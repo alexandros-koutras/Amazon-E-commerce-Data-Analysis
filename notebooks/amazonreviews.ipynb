{
  "nbformat": 4,
  "nbformat_minor": 0,
  "metadata": {
    "colab": {
      "provenance": []
    },
    "kernelspec": {
      "name": "python3",
      "display_name": "Python 3"
    },
    "language_info": {
      "name": "python"
    }
  },
  "cells": [
    {
      "cell_type": "markdown",
      "source": [
        "# **Εργασία 2 - Τεχνικές Εξόρυξης Δεδομένων**\n",
        "Ονοματεπώνυμα: Αλέξανδρος Κούτρας\n",
        "\n",
        "Α.Μ: 1115202100073"
      ],
      "metadata": {
        "id": "_5ODC93CEGrW"
      }
    },
    {
      "cell_type": "code",
      "source": [
        "from google.colab import drive\n",
        "drive.mount('/content/drive')"
      ],
      "metadata": {
        "colab": {
          "base_uri": "https://localhost:8080/"
        },
        "id": "IAi8a8E6xPcR",
        "outputId": "fa45c5cb-f176-4ad7-dc83-0c3d98d47296"
      },
      "execution_count": null,
      "outputs": [
        {
          "output_type": "stream",
          "name": "stdout",
          "text": [
            "Drive already mounted at /content/drive; to attempt to forcibly remount, call drive.mount(\"/content/drive\", force_remount=True).\n"
          ]
        }
      ]
    },
    {
      "cell_type": "code",
      "source": [
        "pip install gensim"
      ],
      "metadata": {
        "colab": {
          "base_uri": "https://localhost:8080/"
        },
        "id": "jVhM_CYG48nj",
        "outputId": "d609618d-4dca-48d6-e440-f32817e559d4"
      },
      "execution_count": null,
      "outputs": [
        {
          "output_type": "stream",
          "name": "stdout",
          "text": [
            "Requirement already satisfied: gensim in /usr/local/lib/python3.11/dist-packages (4.3.3)\n",
            "Requirement already satisfied: numpy<2.0,>=1.18.5 in /usr/local/lib/python3.11/dist-packages (from gensim) (1.26.4)\n",
            "Requirement already satisfied: scipy<1.14.0,>=1.7.0 in /usr/local/lib/python3.11/dist-packages (from gensim) (1.13.1)\n",
            "Requirement already satisfied: smart-open>=1.8.1 in /usr/local/lib/python3.11/dist-packages (from gensim) (7.1.0)\n",
            "Requirement already satisfied: wrapt in /usr/local/lib/python3.11/dist-packages (from smart-open>=1.8.1->gensim) (1.17.2)\n"
          ]
        }
      ]
    },
    {
      "cell_type": "code",
      "execution_count": null,
      "metadata": {
        "colab": {
          "base_uri": "https://localhost:8080/"
        },
        "collapsed": true,
        "id": "m_lVE-nO5kvL",
        "outputId": "2c1c0612-fb95-40f0-f4b9-4d6cd2f30167"
      },
      "outputs": [
        {
          "output_type": "stream",
          "name": "stdout",
          "text": [
            "Requirement already satisfied: datasets in /usr/local/lib/python3.11/dist-packages (3.6.0)\n",
            "Requirement already satisfied: filelock in /usr/local/lib/python3.11/dist-packages (from datasets) (3.18.0)\n",
            "Requirement already satisfied: numpy>=1.17 in /usr/local/lib/python3.11/dist-packages (from datasets) (1.26.4)\n",
            "Requirement already satisfied: pyarrow>=15.0.0 in /usr/local/lib/python3.11/dist-packages (from datasets) (18.1.0)\n",
            "Requirement already satisfied: dill<0.3.9,>=0.3.0 in /usr/local/lib/python3.11/dist-packages (from datasets) (0.3.7)\n",
            "Requirement already satisfied: pandas in /usr/local/lib/python3.11/dist-packages (from datasets) (2.2.2)\n",
            "Requirement already satisfied: requests>=2.32.2 in /usr/local/lib/python3.11/dist-packages (from datasets) (2.32.3)\n",
            "Requirement already satisfied: tqdm>=4.66.3 in /usr/local/lib/python3.11/dist-packages (from datasets) (4.67.1)\n",
            "Requirement already satisfied: xxhash in /usr/local/lib/python3.11/dist-packages (from datasets) (3.5.0)\n",
            "Requirement already satisfied: multiprocess<0.70.17 in /usr/local/lib/python3.11/dist-packages (from datasets) (0.70.15)\n",
            "Requirement already satisfied: fsspec<=2025.3.0,>=2023.1.0 in /usr/local/lib/python3.11/dist-packages (from fsspec[http]<=2025.3.0,>=2023.1.0->datasets) (2025.3.0)\n",
            "Requirement already satisfied: huggingface-hub>=0.24.0 in /usr/local/lib/python3.11/dist-packages (from datasets) (0.33.0)\n",
            "Requirement already satisfied: packaging in /usr/local/lib/python3.11/dist-packages (from datasets) (24.2)\n",
            "Requirement already satisfied: pyyaml>=5.1 in /usr/local/lib/python3.11/dist-packages (from datasets) (6.0.2)\n",
            "Requirement already satisfied: aiohttp!=4.0.0a0,!=4.0.0a1 in /usr/local/lib/python3.11/dist-packages (from fsspec[http]<=2025.3.0,>=2023.1.0->datasets) (3.11.15)\n",
            "Requirement already satisfied: typing-extensions>=3.7.4.3 in /usr/local/lib/python3.11/dist-packages (from huggingface-hub>=0.24.0->datasets) (4.14.0)\n",
            "Requirement already satisfied: hf-xet<2.0.0,>=1.1.2 in /usr/local/lib/python3.11/dist-packages (from huggingface-hub>=0.24.0->datasets) (1.1.5)\n",
            "Requirement already satisfied: charset-normalizer<4,>=2 in /usr/local/lib/python3.11/dist-packages (from requests>=2.32.2->datasets) (3.4.2)\n",
            "Requirement already satisfied: idna<4,>=2.5 in /usr/local/lib/python3.11/dist-packages (from requests>=2.32.2->datasets) (3.10)\n",
            "Requirement already satisfied: urllib3<3,>=1.21.1 in /usr/local/lib/python3.11/dist-packages (from requests>=2.32.2->datasets) (2.4.0)\n",
            "Requirement already satisfied: certifi>=2017.4.17 in /usr/local/lib/python3.11/dist-packages (from requests>=2.32.2->datasets) (2025.6.15)\n",
            "Requirement already satisfied: python-dateutil>=2.8.2 in /usr/local/lib/python3.11/dist-packages (from pandas->datasets) (2.9.0.post0)\n",
            "Requirement already satisfied: pytz>=2020.1 in /usr/local/lib/python3.11/dist-packages (from pandas->datasets) (2025.2)\n",
            "Requirement already satisfied: tzdata>=2022.7 in /usr/local/lib/python3.11/dist-packages (from pandas->datasets) (2025.2)\n",
            "Requirement already satisfied: aiohappyeyeballs>=2.3.0 in /usr/local/lib/python3.11/dist-packages (from aiohttp!=4.0.0a0,!=4.0.0a1->fsspec[http]<=2025.3.0,>=2023.1.0->datasets) (2.6.1)\n",
            "Requirement already satisfied: aiosignal>=1.1.2 in /usr/local/lib/python3.11/dist-packages (from aiohttp!=4.0.0a0,!=4.0.0a1->fsspec[http]<=2025.3.0,>=2023.1.0->datasets) (1.3.2)\n",
            "Requirement already satisfied: attrs>=17.3.0 in /usr/local/lib/python3.11/dist-packages (from aiohttp!=4.0.0a0,!=4.0.0a1->fsspec[http]<=2025.3.0,>=2023.1.0->datasets) (25.3.0)\n",
            "Requirement already satisfied: frozenlist>=1.1.1 in /usr/local/lib/python3.11/dist-packages (from aiohttp!=4.0.0a0,!=4.0.0a1->fsspec[http]<=2025.3.0,>=2023.1.0->datasets) (1.7.0)\n",
            "Requirement already satisfied: multidict<7.0,>=4.5 in /usr/local/lib/python3.11/dist-packages (from aiohttp!=4.0.0a0,!=4.0.0a1->fsspec[http]<=2025.3.0,>=2023.1.0->datasets) (6.4.4)\n",
            "Requirement already satisfied: propcache>=0.2.0 in /usr/local/lib/python3.11/dist-packages (from aiohttp!=4.0.0a0,!=4.0.0a1->fsspec[http]<=2025.3.0,>=2023.1.0->datasets) (0.3.2)\n",
            "Requirement already satisfied: yarl<2.0,>=1.17.0 in /usr/local/lib/python3.11/dist-packages (from aiohttp!=4.0.0a0,!=4.0.0a1->fsspec[http]<=2025.3.0,>=2023.1.0->datasets) (1.20.1)\n",
            "Requirement already satisfied: six>=1.5 in /usr/local/lib/python3.11/dist-packages (from python-dateutil>=2.8.2->pandas->datasets) (1.17.0)\n"
          ]
        }
      ],
      "source": [
        "pip install -U datasets"
      ]
    },
    {
      "cell_type": "code",
      "source": [
        "import re\n",
        "import ast\n",
        "import nltk\n",
        "import json\n",
        "import itertools\n",
        "import numpy as np\n",
        "import pandas as pd\n",
        "import seaborn as sns\n",
        "import matplotlib.pyplot as plt\n",
        "\n",
        "from tqdm import tqdm\n",
        "from scipy.sparse import hstack\n",
        "from wordcloud import WordCloud\n",
        "from datasets import load_dataset\n",
        "from nltk.corpus import stopwords\n",
        "from gensim.models import Word2Vec\n",
        "from sklearn.cluster import KMeans\n",
        "from nltk.stem import PorterStemmer\n",
        "from sklearn.decomposition import PCA\n",
        "from sklearn.pipeline import Pipeline\n",
        "from nltk.tokenize import word_tokenize\n",
        "from sklearn.neighbors import KNeighborsClassifier\n",
        "from sklearn.ensemble import RandomForestClassifier\n",
        "from mlxtend.preprocessing import TransactionEncoder\n",
        "from sklearn.metrics.pairwise import cosine_similarity\n",
        "from sklearn.naive_bayes import MultinomialNB, GaussianNB\n",
        "from sklearn.feature_extraction.text import TfidfVectorizer\n",
        "from sklearn.preprocessing import StandardScaler, MinMaxScaler\n",
        "from mlxtend.frequent_patterns import apriori, association_rules\n",
        "from sklearn.model_selection import train_test_split, cross_val_score\n",
        "from sklearn.metrics import silhouette_score, accuracy_score, precision_score, recall_score, f1_score, precision_recall_fscore_support\n",
        "\n",
        "nltk.download('stopwords')\n",
        "nltk.download('punkt')"
      ],
      "metadata": {
        "id": "BfbTh94a6BRk",
        "colab": {
          "base_uri": "https://localhost:8080/"
        },
        "outputId": "abe30284-17eb-4499-fa25-a0f495089f21"
      },
      "execution_count": 37,
      "outputs": [
        {
          "output_type": "stream",
          "name": "stderr",
          "text": [
            "[nltk_data] Downloading package stopwords to /root/nltk_data...\n",
            "[nltk_data]   Package stopwords is already up-to-date!\n",
            "[nltk_data] Downloading package punkt to /root/nltk_data...\n",
            "[nltk_data]   Package punkt is already up-to-date!\n"
          ]
        },
        {
          "output_type": "execute_result",
          "data": {
            "text/plain": [
              "True"
            ]
          },
          "metadata": {},
          "execution_count": 37
        }
      ]
    },
    {
      "cell_type": "code",
      "source": [
        "pd.set_option('display.max_columns', None)\n",
        "pd.set_option('display.max_colwidth', None)"
      ],
      "metadata": {
        "id": "Ar-VTgoeaiu5"
      },
      "execution_count": null,
      "outputs": []
    },
    {
      "cell_type": "markdown",
      "source": [
        "# **Task 1: Clustering for Product Grouping**\n",
        "Extract data for any five categories that you like. Parse the JSON files and create the csv file(s) that you are going to use for the rest of the Tasks."
      ],
      "metadata": {
        "id": "f-acmx0ptBaM"
      }
    },
    {
      "cell_type": "code",
      "source": [
        "# Read the JSON file using the given load_dataset function\n",
        "meta_Electronics = load_dataset(\"McAuley-Lab/Amazon-Reviews-2023\", name=\"raw_meta_Electronics\", split=\"full\", streaming=True, trust_remote_code=True)\n",
        "reviews_Electronics = load_dataset(\"McAuley-Lab/Amazon-Reviews-2023\", name=\"raw_review_Electronics\", split=\"full\", streaming=True, trust_remote_code=True)\n",
        "\n",
        "# Add to a list the unnecessary columns and remove them from the dataset\n",
        "meta_columns_to_remove = ['images', 'bought_together', 'subtitle', 'author', 'videos']\n",
        "meta_Electronics = meta_Electronics.remove_columns(meta_columns_to_remove)\n",
        "reviews_Electronics = reviews_Electronics.remove_columns(['images'])\n",
        "\n",
        "subset_meta_Electronics = []\n",
        "subset_reviews_Electronics = []\n",
        "\n",
        "# Iterate through the dataset and keep a number of rows\n",
        "for record in meta_Electronics:\n",
        "  subset_meta_Electronics.append(record)\n",
        "  if len(subset_meta_Electronics) >= 10000:\n",
        "    break\n",
        "\n",
        "for record in reviews_Electronics:\n",
        "  subset_reviews_Electronics.append(record)\n",
        "  if len(subset_reviews_Electronics) >= 10000:\n",
        "    break\n",
        "\n",
        "# Create the pandas dataframe\n",
        "pandas_subset_meta_Electronics = pd.DataFrame(subset_meta_Electronics)\n",
        "pandas_subset_reviews_Electronics = pd.DataFrame(subset_reviews_Electronics)\n",
        "\n",
        "# Rename a column so there are no conflicts on the merge\n",
        "pandas_subset_meta_Electronics.rename(columns={'title': 'name'}, inplace=True)\n",
        "\n",
        "# Merge the 2 datasets using as key the parent_asin column and the reviews dataframe as the left merger\n",
        "electronics = pd.merge(pandas_subset_reviews_Electronics,pandas_subset_meta_Electronics,on='parent_asin',how='left')\n",
        "\n",
        "# Drop all the NaN values from the dataframe\n",
        "electronics = electronics.dropna()\n",
        "\n",
        "#Save the dataframe to a csv file\n",
        "electronics.to_csv('electronics.csv', index=False)"
      ],
      "metadata": {
        "collapsed": true,
        "id": "-wOdeMxsdx2m"
      },
      "execution_count": 40,
      "outputs": []
    },
    {
      "cell_type": "markdown",
      "source": [
        "Clean and prepare the text data for model training by standardizing the\n",
        "input"
      ],
      "metadata": {
        "id": "gGhFERAADFbn"
      }
    },
    {
      "cell_type": "code",
      "source": [
        "# Read the csv file we created earlier\n",
        "electronics = pd.read_csv(\"electronics.csv\")\n",
        "\n",
        "# We drop all the NaN values from the dataset\n",
        "electronics.dropna(inplace=True)\n",
        "electronics.reset_index(drop=True, inplace=True)\n",
        "\n",
        "# These are the stop words that we will remove from the columns\n",
        "stop_words = set(stopwords.words('english'))\n",
        "\n",
        "def clean_text(text):\n",
        "  # We only keep the letters and the spaces and we transform them to lower case letters\n",
        "  cleaned_text = re.sub(r'[^a-zA-Z\\s]', '', str(text))\n",
        "  cleaned_text = cleaned_text.lower()\n",
        "\n",
        "  # We remove the stopwords\n",
        "  words = cleaned_text.split()\n",
        "  filtered_words = [word for word in words if word not in stop_words]\n",
        "\n",
        "  # We combine all the words to one string\n",
        "  text = ' '.join(filtered_words)\n",
        "  return text\n",
        "\n",
        "# Apply the preprocessing function to the description column\n",
        "electronics['processed_description'] = electronics['description'].apply(clean_text)\n",
        "\n",
        "# Scale all the numeric columns\n",
        "scaler = StandardScaler()\n",
        "numerical_features = ['price', 'rating']\n",
        "scaled_numerical_features = ['scaled_price', 'scaled_rating']\n",
        "electronics[scaled_numerical_features] = scaler.fit_transform(electronics[numerical_features])\n",
        "\n",
        "print(\"\\nPreprocessed Descriptions:\")\n",
        "print(electronics[['description', 'processed_description', 'price', 'rating', 'scaled_price', 'scaled_rating']].head())"
      ],
      "metadata": {
        "id": "qj3rdEYV-cyu",
        "colab": {
          "base_uri": "https://localhost:8080/"
        },
        "outputId": "e0323fc3-c128-4c40-d80a-b50d4552d710"
      },
      "execution_count": 41,
      "outputs": [
        {
          "output_type": "stream",
          "name": "stdout",
          "text": [
            "\n",
            "Preprocessed Descriptions:\n",
            "                                                                                                                                                                                                                                                                                                                                                                                                                                                                                                                                                                                                                                                                                                                                                                                                                                                                                                                                                                                                                                                                                                                                                                                                                                                                                                                                                                                                                                                                                                                                                                                                                                                                                                                                                                                                                                                                                                                                                                                                                                                                                                                                                                                                                                                                                                                                                                                                                                                                                                                                                                                                                                                                                                                                                                                                                                                                                                                                                                                                                                                                                                                                                                                                                                                                                                                                                                                                                                                                                                                                                                                                                                                                                                                                                                                                                                                                                                                                                                                                                                                                                                                                                                                                                                                                                                                                                     description  \\\n",
            "0                                                                                                                                                                                                                                                                                                                                                                                                                                                                                                                                                                                                                                                                                                                                                                                                                                                                                                                                                                                                                                                                                                                                                                                                                                                                                                                                                                                                                                                                                                                                                                                                                                                                                                                                                                                                                                                                                                                                                                                                                                                                                                                                                                                                                                                                                                                                                                                                                                                                                                                                                                                                                                                                                                                                                                                                                                                                                                                                                                                                                                                                                                                                                                                                                                                                                                                                                                                                                                                                                                                                                                                                                                                                                                                                                                                                                                                                                                                                                                                                       ['DataComm Electronics’ 1-Gang Recessed Low Voltage Cable Plates are used to install low voltage cables behind your ﬂat panel TV, your ampliﬁer or other audio and video devices. These ETL listed cable plates are designed to be installed onto a low voltage mounting bracket. The cable plate can be installed with the opening facing up or down.']   \n",
            "1                                                                                                                                                                                                                                                                                                                                                                                                                                                                                                                                                                                                                                                                                                                                                                                                                                                                                                                                                                                                                                                                                                                                                                                                                                                                                                                                                                                                                                                                                                                                                                                                                                                                                                                                                                                                                                                                                                                                                                                                                                                                                                                                                                                                                                                                                                                                                                                                                                                                                                                                                                                                                                                                                                                                                                                                                                                                                                                                                                                                                                                                                                                                                                                                                                                                                                                                                                                                                                                                                                                                                                                                                                                                                                                                                                                                                                                                                                                                                                                                                                                                                                                                                                                                                                                                                                                                                             []   \n",
            "2                                                                                                                                                                                                                                                                                                                                                                                                                                                                                                                                                                                                                                                                                                                                                                                                                                                                                                                                                                                                                                                                                                                                                                                                                                                                                                                                                                                                                                                                                                                                                                                                                                                                                                                                                                                                                                                                                                                                                                                                                                                                                                                                                                                                                                                                                                                                                                                                                                                                                                                                                                                                                                                                                                                                                                                                                                                                                                                                                                                                                                                                                                                                                                                                                                                                                                                                                                                                                                                                                                                                                                                                                                                                                                                                                                                                                                                                                                                                                                                                                                                                                                                                                                                                                                                                                                                                                             []   \n",
            "3  ['Logitech Ultrathin Touch Mouse T630', 'Beautifully crafted. Sophisticated by design.', 'Gorgeous brushed metallic body, slim profile and smooth Windows 8 touch surface match the sleek looks of Ultrabook Super-thin, feather-light and ultra-portable Minimalist design with Bluetooth connectivity to your Ultrabook, tablet and desktop computer', 'See Detailed Features', 'Logitech Ultrathin Touch Mouse T630', 'Love the look of your Ultrabook? Add a little more of what you love with a mouse that complements it perfectly. The head-turning, high-performing Logitech Ultrathin Touch Mouse T630.', 'Small and Ultra-portable.', 'Enlarge', 'An ideal match for Ultrabooks', 'Brushed metallic body and silky smooth touch surface', 'Brushed metallic body and silky smooth touch surface', 'Perfectly complements the sleek good looks and stunning profile of your Ultrabook computer', 'Perfectly complements the sleek good looks and stunning profile of your Ultrabook computer', 'Enlarge', 'One mouse. Multiple devices.', 'Connects to your Ultrabook, tablet or computer using Bluetooth wireless', 'Connects to your Ultrabook, tablet or computer using', 'Bluetooth', 'wireless', 'Logitech Easy-Switch Technology—toggle between your devices with the simple flip of a switch', 'Logitech Easy-Switch Technology—toggle between your devices with the simple flip of a switch', 'Enlarge', 'Ultra-portable pair', 'Finally, a mouse as ultra-portable as your Ultrabook that can go everywhere you do.', 'Super thin and feather light', 'Super thin and feather light', 'Slips nearly invisibly into a computer sleeve or even in the pocket of your skinniest jeans', 'Slips nearly invisibly into a computer sleeve or even in the pocket of your skinniest jeans', 'Enlarge', 'Hassle-free rechargeability', 'Forget about battery hassles once and for all.', 'Mouse charges over USB, so it’s ready when you are', 'Mouse charges over USB, so it’s ready when you are', 'Recharge fast—just one minute of charge time gives you enough power to keep working for another hour*', 'Recharge fast—just one minute of charge time gives you enough power to keep working for another hour*', 'Enlarge', 'Effortless Windows 8 touch gestures', 'Experience new Windows 8 navigation—effortlessly and confidently', 'Experience new Windows 8 navigation—effortlessly and confidently', 'Simplifies the touch navigation experience with natural, intuitive gestures—and makes you look and feel good doing it.', 'Simplifies the touch navigation experience with natural, intuitive gestures—and makes you look and feel good doing it.', 'Learn more about Windows 8 navigation >', '* Based on typical user experience. Your results may vary.', 'Compatibility', \"What's in the box?\", 'Ultrathin Touch Mouse', 'Ultrathin Touch Mouse', 'USB cable for recharging', 'USB cable for recharging', 'User documentation', 'User documentation', 'Works with:', 'Windows 8, Windows 7', 'Windows 8, Windows 7', 'USB port for recharging', 'USB port for recharging', 'Internet connection for software download', 'Internet connection for software download', 'Compare', 'Which Logitech Wireless Mouse Matches Your Style?', 'Wireless Mouse M325', 'Zone Touch Mouse T400', 'Ultrathin Touch Mouse T630', 'GOODBETTERBEST', 'What do you get?', 'A traditional mouse with designed-for-web scrollingA traditional mouse with familiar buttons plus touch zone for smooth scrollingA full-touch-surface mouse beautifully crafted to complement Ultrabooks', 'Wireless connection', 'USB with Unifying receiverUSB with Unifying receiverBluetooth', 'Scrolling method', 'Scroll wheelTouch zone swipe-and-scrollTouch surface swipe-and-scroll', 'Touch gestures you can do', 'N/A 49', 'Ultra-smooth touch surface for fluid, precise control', 'Touch zoneFull touch surface', 'Profile', 'ClassicStreamlinedUltrathin', 'Battery life*', 'Up to 18 monthsUp to 18 monthsRechargeable. Up to 10 days on a full charge', 'Size', 'CompactFull sizeUltra-portable', 'Compatibility', 'Windows 8, Windows RT, Windows 7, Windows Vista, Windows XP, Mac OS X 10.5 or later, Linux kernel 2.6+ Windows 8, Windows RT, Windows 7Windows 8, Windows 7', '* Battery life may vary based on user and computing conditions.']   \n",
            "4                                                                                                                                                                                                                                                                                                                                                                                                                                                                                                                                                                                                                                                                                                                                                                                                                                                                                                                                                                                                                                                                                                                                                                                                                                                                                                                                                                                                                                                                                                                                                                                                                                                                                                                                                                                                                                                                                                                                                                                                                                                                                                                                                                                                                                                                                                                                                                                                                                                                                                                                                                                                                                                                                                                                                                                                                                                                                                                                                                                                                                                                                                                                                                                                                                                                                                                                                                                                                                                                                                                                                                                                                                                                                                                                                                                                                                                                                                                                                                                                                                                                                                                                                                                                                                                                                                                                                             []   \n",
            "\n",
            "                                                                                                                                                                                                                                                                                                                                                                                                                                                                                                                                                                                                                                                                                                                                                                                                                                                                                                                                                                                                                                                                                                                                                                                                                                                                                                                                                                                                                                                                                                                                                                                                                                                                                                                                                                                                                                                                                                                                                                                                                                                                                                                                                                                                                                                                                                                                                                                                                                                                                                                                                                                                                                                                                                                                                                                                                                                                                                                                                                                                                                                                                                                                                                                                                                                                       processed_description  \\\n",
            "0                                                                                                                                                                                                                                                                                                                                                                                                                                                                                                                                                                                                                                                                                                                                                                                                                                                                                                                                                                                                                                                                                                                                                                                                                                                                                                                                                                                                                                                                                                                                                                                                                                                                                                                                                                                                                                                                                                                                                                                                                                                                                                                                                                                                                                                                                                                                                                                                                                                                                                                                                                                                                                                                                                                                                                                                                                                                                                                                                                                                                                  datacomm electronics gang recessed low voltage cable plates used install low voltage cables behind panel tv amplier audio video devices etl listed cable plates designed installed onto low voltage mounting bracket cable plate installed opening facing   \n",
            "1                                                                                                                                                                                                                                                                                                                                                                                                                                                                                                                                                                                                                                                                                                                                                                                                                                                                                                                                                                                                                                                                                                                                                                                                                                                                                                                                                                                                                                                                                                                                                                                                                                                                                                                                                                                                                                                                                                                                                                                                                                                                                                                                                                                                                                                                                                                                                                                                                                                                                                                                                                                                                                                                                                                                                                                                                                                                                                                                                                                                                                                                                                                                                                                                                                                                                              \n",
            "2                                                                                                                                                                                                                                                                                                                                                                                                                                                                                                                                                                                                                                                                                                                                                                                                                                                                                                                                                                                                                                                                                                                                                                                                                                                                                                                                                                                                                                                                                                                                                                                                                                                                                                                                                                                                                                                                                                                                                                                                                                                                                                                                                                                                                                                                                                                                                                                                                                                                                                                                                                                                                                                                                                                                                                                                                                                                                                                                                                                                                                                                                                                                                                                                                                                                                              \n",
            "3  logitech ultrathin touch mouse beautifully crafted sophisticated design gorgeous brushed metallic body slim profile smooth windows touch surface match sleek looks ultrabook superthin featherlight ultraportable minimalist design bluetooth connectivity ultrabook tablet desktop computer see detailed features logitech ultrathin touch mouse love look ultrabook add little love mouse complements perfectly headturning highperforming logitech ultrathin touch mouse small ultraportable enlarge ideal match ultrabooks brushed metallic body silky smooth touch surface brushed metallic body silky smooth touch surface perfectly complements sleek good looks stunning profile ultrabook computer perfectly complements sleek good looks stunning profile ultrabook computer enlarge one mouse multiple devices connects ultrabook tablet computer using bluetooth wireless connects ultrabook tablet computer using bluetooth wireless logitech easyswitch technologytoggle devices simple flip switch logitech easyswitch technologytoggle devices simple flip switch enlarge ultraportable pair finally mouse ultraportable ultrabook go everywhere super thin feather light super thin feather light slips nearly invisibly computer sleeve even pocket skinniest jeans slips nearly invisibly computer sleeve even pocket skinniest jeans enlarge hasslefree rechargeability forget battery hassles mouse charges usb ready mouse charges usb ready recharge fastjust one minute charge time gives enough power keep working another hour recharge fastjust one minute charge time gives enough power keep working another hour enlarge effortless windows touch gestures experience new windows navigationeffortlessly confidently experience new windows navigationeffortlessly confidently simplifies touch navigation experience natural intuitive gesturesand makes look feel good simplifies touch navigation experience natural intuitive gesturesand makes look feel good learn windows navigation based typical user experience results may vary compatibility whats box ultrathin touch mouse ultrathin touch mouse usb cable recharging usb cable recharging user documentation user documentation works windows windows windows windows usb port recharging usb port recharging internet connection software download internet connection software download compare logitech wireless mouse matches style wireless mouse zone touch mouse ultrathin touch mouse goodbetterbest get traditional mouse designedforweb scrollinga traditional mouse familiar buttons plus touch zone smooth scrollinga fulltouchsurface mouse beautifully crafted complement ultrabooks wireless connection usb unifying receiverusb unifying receiverbluetooth scrolling method scroll wheeltouch zone swipeandscrolltouch surface swipeandscroll touch gestures na ultrasmooth touch surface fluid precise control touch zonefull touch surface profile classicstreamlinedultrathin battery life monthsup monthsrechargeable days full charge size compactfull sizeultraportable compatibility windows windows rt windows windows vista windows xp mac os x later linux kernel windows windows rt windows windows windows battery life may vary based user computing conditions   \n",
            "4                                                                                                                                                                                                                                                                                                                                                                                                                                                                                                                                                                                                                                                                                                                                                                                                                                                                                                                                                                                                                                                                                                                                                                                                                                                                                                                                                                                                                                                                                                                                                                                                                                                                                                                                                                                                                                                                                                                                                                                                                                                                                                                                                                                                                                                                                                                                                                                                                                                                                                                                                                                                                                                                                                                                                                                                                                                                                                                                                                                                                                                                                                                                                                                                                                                                                              \n",
            "\n",
            "    price  rating  scaled_price  scaled_rating  \n",
            "0    6.60     4.0     -0.386169      -0.357494  \n",
            "1   22.99     1.0     -0.215227      -2.981242  \n",
            "2    9.88     5.0     -0.351960       0.517089  \n",
            "3  119.99     3.0      0.796452      -1.232077  \n",
            "4    9.99     5.0     -0.350812       0.517089  \n"
          ]
        }
      ]
    },
    {
      "cell_type": "markdown",
      "source": [
        "Use TF-IDF for vectorization of product descriptions and combine numerical features and TF-IDF vectors into a single feature matrix."
      ],
      "metadata": {
        "id": "nSY5HmumDMmj"
      }
    },
    {
      "cell_type": "code",
      "source": [
        "# Vectorize text data using TF-IDF\n",
        "tf_electronics = TfidfVectorizer(max_features=1000)\n",
        "train_electronics = tf_electronics.fit_transform(electronics['processed_description'])\n",
        "\n",
        "# Combine TF-Electronics with scaled numerical features\n",
        "scaled_numerical = electronics[scaled_numerical_features].values\n",
        "combined_features = hstack([train_electronics, scaled_numerical])"
      ],
      "metadata": {
        "id": "G51-cHFfFkzA"
      },
      "execution_count": 42,
      "outputs": []
    },
    {
      "cell_type": "markdown",
      "source": [
        "Perform clustering using one clustering method."
      ],
      "metadata": {
        "id": "y1-PeDifDWpO"
      }
    },
    {
      "cell_type": "code",
      "source": [
        "# Perform the Elbow method to find the optimal k value\n",
        "wcss = []\n",
        "\n",
        "# Test k from 2 to 10\n",
        "k_range = range(2, 11)\n",
        "\n",
        "# Perform the k-Means algorithm for the k range\n",
        "for k in k_range:\n",
        "    kmeans = KMeans(n_clusters=k, n_init=10, random_state=42)\n",
        "    kmeans.fit(combined_features)\n",
        "\n",
        "    # Keep the inertia to compare in the graph\n",
        "    wcss.append(kmeans.inertia_)\n",
        "\n",
        "# Plot the Elbow graph\n",
        "plt.figure(figsize=(10, 6))\n",
        "plt.plot(k_range, wcss, marker='o', linestyle='--')\n",
        "plt.title('Elbow Method for Optimal k')\n",
        "plt.xlabel('Number of Clusters (k)')\n",
        "plt.ylabel('WCSS')\n",
        "plt.xticks(k_range)\n",
        "plt.grid(True)\n",
        "plt.show()"
      ],
      "metadata": {
        "id": "rnnD9Uo5Fn0R",
        "colab": {
          "base_uri": "https://localhost:8080/",
          "height": 564
        },
        "outputId": "4752e6d6-204b-4c1e-ef8a-52ddd07e7dc6"
      },
      "execution_count": 43,
      "outputs": [
        {
          "output_type": "display_data",
          "data": {
            "text/plain": [
              "<Figure size 1000x600 with 1 Axes>"
            ],
            "image/png": "[encoded data removed]"
          },
          "metadata": {}
        }
      ]
    },
    {
      "cell_type": "code",
      "source": [
        "# Perform the k-Means algorithm for the optimal k value we found from the Elbow method above\n",
        "optimal_k = 3\n",
        "kmeans = KMeans(n_clusters=optimal_k, n_init=10, random_state=42)\n",
        "electronics['cluster'] = kmeans.fit_predict(combined_features)\n",
        "\n",
        "print(f\"\\nClustering complete with {optimal_k} clusters.\")\n",
        "print(electronics.head())"
      ],
      "metadata": {
        "id": "_XlgP7egGmIW",
        "colab": {
          "base_uri": "https://localhost:8080/"
        },
        "outputId": "890b256d-be63-49cc-a391-3cc80d0f98b9"
      },
      "execution_count": 44,
      "outputs": [
        {
          "output_type": "stream",
          "name": "stdout",
          "text": [
            "\n",
            "Clustering complete with 3 clusters.\n",
            "   rating                                         title  \\\n",
            "0     4.0  Did anyone use this for a recessed TV mount?   \n",
            "1     1.0                                          Junk   \n",
            "2     5.0                    Right size for kids Kindle   \n",
            "3     3.0  Definitely not for me, but maybe for my sons   \n",
            "4     5.0                                     finally !   \n",
            "\n",
            "                                                                                                                                                                                                                                                                                                                                                                                                                                                                                                                                                                                                                                                                                                                                                                                                                                                        text  \\\n",
            "0                                                                                                                                                                                                                                                                                                                                                                                                                                                                                                                                                           I believe the electrical boxes are made especially to fit in a recessed (in wall) TV mount fixture. That is perhaps why it is made narrower. In the comments I am not seeing anyone using it for this. I would love to hear if someone used it placed inside a recessed mount and how it worked.   \n",
            "1                                                                                                                                                                                                                                                                                                                                                                                                                                                                                                                                                                                                                                                                      To me, this was a waste of money. Not useful on a plane or really anywhere. Too short, once bent, leaving no surface space so phone wants to fall off. Don’t buy it. Save your money.   \n",
            "2                                                                                                                                                                                                                                                                                                                                                                                                                                                                                                                                                                                                                                                                                                   After I received the butterfly bag I was not sure if my great niece's Kindle with the big rubber protector would fit. But it fits perfectly in this bag.   \n",
            "3  First for pros: This is tiny, maybe about 3/4 inch thick at it's widest. Sleek, attractive and would probably delight any techie who is looking for some kind of new hip gadget. For the cons: It's too small. There are no indentations to grip the mouse and it is difficult to click on any area that you are trying to. Navigation/movement of the mouse is ok, it's the clicking that is difficult to do (and it becomes quite annoying to say the least). Within using this for a full day I, unfortunately, reverted back to my old wireless HP mouse. Maybe I am just old school and set in my ways (I am in my 50's), so I will be 'loaning' this to my techie son to give it a go. Maybe he will appreciate this better and will be able to navigate easier than I could. If that is the case, I will revisit my review and update accordingly.   \n",
            "4                                                                                                                                                                                                                                                                                                                                                                                                                                                                                                                                                                                                                                                                                                                    i finally found  the perfect screen cleaner and cloth  definitely ordering larger size cleaner and throwing the others in the trash !!!   \n",
            "\n",
            "         asin parent_asin                       user_id      timestamp  \\\n",
            "0  B001PL3XJS  B0862W5BQ8  AEVWAM3YWN5URJVJIZZ6XPD2MKIA  1484481615000   \n",
            "1  B072MBPWMV  B07VV6TT69  AFEAJQIVVIZCTKQNNHD73H7VQSPQ  1588171605329   \n",
            "2  B00S7IBV82  B07HHY1MWS  AHLC5H2CEWSAOXOA53VIIROLPZKA  1507807396012   \n",
            "3  B00DR8LA6U  B00GXXJF72  AFSKPY37N3C43SOI5IEXEK5JSIYA  1382534233000   \n",
            "4  B074512LY1  B074512LY1  AHGAOIZVODNHYMNCBV4DECZH42UQ  1553711371255   \n",
            "\n",
            "   helpful_vote  verified_purchase              main_category  \\\n",
            "0             0              False            All Electronics   \n",
            "1             0               True  Cell Phones & Accessories   \n",
            "2             2               True                  Computers   \n",
            "3             0              False                  Computers   \n",
            "4             0               True                  Computers   \n",
            "\n",
            "                                                                                                                                                                                              name  \\\n",
            "0                                                                                                  DATA COMM Electronics 45-6001-WH-S 1-Gang Recessed Low Voltage Cable Plate with Bracket - White   \n",
            "1  Flight Flap Phone & Tablet Holder, Designed for Air Travel - Flying, Traveling, in-Flight Stand, Compatible with iPhone, Compatible with Android and Compatible with Kindle Mobile Devices (XL)   \n",
            "2                                                                                                AUPET Cute Wish Cat Universal 6 ~ 7 inch Tablet Portable Neoprene Zipper Carrying Sleeve Case Bag   \n",
            "3                                                                                                                                 Logitech Ultrathin Touch Mouse T630 for Windows 8 Touch Gestures   \n",
            "4                                                          Screen Mom Screen Cleaner Kit for Laptop, Phone Cleaner, iPad, Eyeglass, LED, LCD, TV - Includes 2oz Spray and 2 Purple Cleaning Cloths   \n",
            "\n",
            "   average_rating  rating_number  \\\n",
            "0             4.7         6103.0   \n",
            "1             4.3          822.0   \n",
            "2             4.6         2208.0   \n",
            "3             4.1         1630.0   \n",
            "4             4.7         6147.0   \n",
            "\n",
            "                                                                                                                                                                                                                                                                                                                                                                                                                                                                                                                                                                                                                                                                                                                                                                                                                                                                                                                                                                                                                                                                                       features  \\\n",
            "0                                                                                                                                                                                                                                                                                                                                                                                                                                                                                                                                                                                                                                                                                                                                                               ['Conceals low voltage audio video cables behind wall mounted flat panel TVs, ampliﬁers, and other audio and video devices with quick and easy installation', 'Holds up to 4 cables', 'Can be installed with the opening facing up or down', 'Made of non-breakable ABS plastic', 'ETL listed in the United States and Canada']   \n",
            "1                                                                                                                                                                                                                                                                                                                                                                                                                  ['ROBUST MATERIALS - Made of soft, closed cell foam and a strong aluminum core, the FLIGHT FLAP XL is our largest product and secures your heaviest tablet wherever your travel takes you', \"LARGER SIZE, SAME LIGHTWEIGHT FEEL - Like all FLIGHT FLAP products, the XL folds flat for easy transport in you carry-on, purse, or laptop bag - you'll barely notice it's there!\", \"STREAM ANYWHERE - There's no reason to miss the game or your favorite show while traveling. The XL ensures comfortable viewing on your tablet anywhere you find yourself\", 'FLY SECURELY - Attaches to most airline seat backs and tray tables to accommodate ALL phone and tablet sizes']   \n",
            "2  ['SUPER SOFT NEOPRENE MATERIAL:Our AUPET Laptop Carry Sleeve Case Bag is make of Soft neoprene material,It has Outside handle. which is lightweight and comfortable,Waterproof breathable,it will fully protect your Laptop surface from being scratched, scraping, extrusion and so on', 'DOUBLE ZIPPER HAS OUTSIDE HANDLE DESIGN: Our AUPET Laptop Carry Sleeve Case Bag is Double zipper design,It has Outside handle. fully protect your computer from being scratched, splashing water, extrusion and so on .', 'LAPTOP SLEEVE CASE BAG DIMENSION: Our AUPET Laptop Carry Sleeve Case Bag About 22.5cm(8.9 inch) x 17.5cm( 6.8 inch) X2cm ;Compatible with : Most of 6\"/ 7\" Tablet Case', 'LAPTOP SLEEVE CASE BAG DIMENSION: Our AUPET Laptop Carry Sleeve Case Bag About 22.5cm(8.9 inch) x 16cm( 6.3 inch) X2cm ;Compatible with : Most of 7\"/ 8\" Tablet Case IPad Mini', \"SATISFACTION CUSTOMER SERVICE : Our AUPET Laptop Carry Sleeve Case Bag is available in a variety of wonderful colors, This bag will last years, and if there's an issue, return for replace,no problems!\"]   \n",
            "3                                                                                                                                                                                                                                                                                                                                                            [\"Designed For Ultrabook's: Brushed Metallic Body And Silky-Smooth Touch Surface Perfectly Complement The Sleek Look Of Your Ultrabook\", 'Ultra-Portable: Super-Thin Design Slips Easily Into A Computer Sleeve Or The Pocket Of Your Jeans', 'Windows Touch Gesture Support*: Simplifies Touch Navigation With Natural, Intuitive Gestures. Works With Windows 10, 8, And 7. (*Some Features Require Software Installation.)', 'Bluetooth wireless pairs multiple devices: Connects to your Ultrabook, tablet and desktop PC with easy switching between devices', 'Charge over USB: No battery hassles. Just 1 minute of charge time powers your mouse for an hour. (Based on typical user experience. Your results may vary.)']   \n",
            "4                                                                                                                                                                                                                                                                                                                                                                                                                                                                                                                                                                                                           ['Includes 2oz spray bottle, 1-Purple 15.75\"x 15.75\" and 1-Purple 6”x7” Microfiber Premium Cloth, A Great Gift idea', 'Works on Delicate Screens – No alcohol, ammonia, or phosphates', 'Streak Free - ScreenMom gives your screen a like new appearance again that you will love', 'Gently Cleans - HDTVs, Flatscreens, PC monitors, Tablet, Laptops, Glasses, Phone Cleaner, Sunglasses, and Cell Phones', 'Cleans Other Things - CDs, DVDs, Mirrors, Vinyl Records, and Lenses']   \n",
            "\n",
            "                                                                                                                                                                                                                                                                                                                                                                                                                                                                                                                                                                                                                                                                                                                                                                                                                                                                                                                                                                                                                                                                                                                                                                                                                                                                                                                                                                                                                                                                                                                                                                                                                                                                                                                                                                                                                                                                                                                                                                                                                                                                                                                                                                                                                                                                                                                                                                                                                                                                                                                                                                                                                                                                                                                                                                                                                                                                                                                                                                                                                                                                                                                                                                                                                                                                                                                                                                                                                                                                                                                                                                                                                                                                                                                                                                                                                                                                                                                                                                                                                                                                                                                                                                                                                                                                                                                                                     description  \\\n",
            "0                                                                                                                                                                                                                                                                                                                                                                                                                                                                                                                                                                                                                                                                                                                                                                                                                                                                                                                                                                                                                                                                                                                                                                                                                                                                                                                                                                                                                                                                                                                                                                                                                                                                                                                                                                                                                                                                                                                                                                                                                                                                                                                                                                                                                                                                                                                                                                                                                                                                                                                                                                                                                                                                                                                                                                                                                                                                                                                                                                                                                                                                                                                                                                                                                                                                                                                                                                                                                                                                                                                                                                                                                                                                                                                                                                                                                                                                                                                                                                                                       ['DataComm Electronics’ 1-Gang Recessed Low Voltage Cable Plates are used to install low voltage cables behind your ﬂat panel TV, your ampliﬁer or other audio and video devices. These ETL listed cable plates are designed to be installed onto a low voltage mounting bracket. The cable plate can be installed with the opening facing up or down.']   \n",
            "1                                                                                                                                                                                                                                                                                                                                                                                                                                                                                                                                                                                                                                                                                                                                                                                                                                                                                                                                                                                                                                                                                                                                                                                                                                                                                                                                                                                                                                                                                                                                                                                                                                                                                                                                                                                                                                                                                                                                                                                                                                                                                                                                                                                                                                                                                                                                                                                                                                                                                                                                                                                                                                                                                                                                                                                                                                                                                                                                                                                                                                                                                                                                                                                                                                                                                                                                                                                                                                                                                                                                                                                                                                                                                                                                                                                                                                                                                                                                                                                                                                                                                                                                                                                                                                                                                                                                                             []   \n",
            "2                                                                                                                                                                                                                                                                                                                                                                                                                                                                                                                                                                                                                                                                                                                                                                                                                                                                                                                                                                                                                                                                                                                                                                                                                                                                                                                                                                                                                                                                                                                                                                                                                                                                                                                                                                                                                                                                                                                                                                                                                                                                                                                                                                                                                                                                                                                                                                                                                                                                                                                                                                                                                                                                                                                                                                                                                                                                                                                                                                                                                                                                                                                                                                                                                                                                                                                                                                                                                                                                                                                                                                                                                                                                                                                                                                                                                                                                                                                                                                                                                                                                                                                                                                                                                                                                                                                                                             []   \n",
            "3  ['Logitech Ultrathin Touch Mouse T630', 'Beautifully crafted. Sophisticated by design.', 'Gorgeous brushed metallic body, slim profile and smooth Windows 8 touch surface match the sleek looks of Ultrabook Super-thin, feather-light and ultra-portable Minimalist design with Bluetooth connectivity to your Ultrabook, tablet and desktop computer', 'See Detailed Features', 'Logitech Ultrathin Touch Mouse T630', 'Love the look of your Ultrabook? Add a little more of what you love with a mouse that complements it perfectly. The head-turning, high-performing Logitech Ultrathin Touch Mouse T630.', 'Small and Ultra-portable.', 'Enlarge', 'An ideal match for Ultrabooks', 'Brushed metallic body and silky smooth touch surface', 'Brushed metallic body and silky smooth touch surface', 'Perfectly complements the sleek good looks and stunning profile of your Ultrabook computer', 'Perfectly complements the sleek good looks and stunning profile of your Ultrabook computer', 'Enlarge', 'One mouse. Multiple devices.', 'Connects to your Ultrabook, tablet or computer using Bluetooth wireless', 'Connects to your Ultrabook, tablet or computer using', 'Bluetooth', 'wireless', 'Logitech Easy-Switch Technology—toggle between your devices with the simple flip of a switch', 'Logitech Easy-Switch Technology—toggle between your devices with the simple flip of a switch', 'Enlarge', 'Ultra-portable pair', 'Finally, a mouse as ultra-portable as your Ultrabook that can go everywhere you do.', 'Super thin and feather light', 'Super thin and feather light', 'Slips nearly invisibly into a computer sleeve or even in the pocket of your skinniest jeans', 'Slips nearly invisibly into a computer sleeve or even in the pocket of your skinniest jeans', 'Enlarge', 'Hassle-free rechargeability', 'Forget about battery hassles once and for all.', 'Mouse charges over USB, so it’s ready when you are', 'Mouse charges over USB, so it’s ready when you are', 'Recharge fast—just one minute of charge time gives you enough power to keep working for another hour*', 'Recharge fast—just one minute of charge time gives you enough power to keep working for another hour*', 'Enlarge', 'Effortless Windows 8 touch gestures', 'Experience new Windows 8 navigation—effortlessly and confidently', 'Experience new Windows 8 navigation—effortlessly and confidently', 'Simplifies the touch navigation experience with natural, intuitive gestures—and makes you look and feel good doing it.', 'Simplifies the touch navigation experience with natural, intuitive gestures—and makes you look and feel good doing it.', 'Learn more about Windows 8 navigation >', '* Based on typical user experience. Your results may vary.', 'Compatibility', \"What's in the box?\", 'Ultrathin Touch Mouse', 'Ultrathin Touch Mouse', 'USB cable for recharging', 'USB cable for recharging', 'User documentation', 'User documentation', 'Works with:', 'Windows 8, Windows 7', 'Windows 8, Windows 7', 'USB port for recharging', 'USB port for recharging', 'Internet connection for software download', 'Internet connection for software download', 'Compare', 'Which Logitech Wireless Mouse Matches Your Style?', 'Wireless Mouse M325', 'Zone Touch Mouse T400', 'Ultrathin Touch Mouse T630', 'GOODBETTERBEST', 'What do you get?', 'A traditional mouse with designed-for-web scrollingA traditional mouse with familiar buttons plus touch zone for smooth scrollingA full-touch-surface mouse beautifully crafted to complement Ultrabooks', 'Wireless connection', 'USB with Unifying receiverUSB with Unifying receiverBluetooth', 'Scrolling method', 'Scroll wheelTouch zone swipe-and-scrollTouch surface swipe-and-scroll', 'Touch gestures you can do', 'N/A 49', 'Ultra-smooth touch surface for fluid, precise control', 'Touch zoneFull touch surface', 'Profile', 'ClassicStreamlinedUltrathin', 'Battery life*', 'Up to 18 monthsUp to 18 monthsRechargeable. Up to 10 days on a full charge', 'Size', 'CompactFull sizeUltra-portable', 'Compatibility', 'Windows 8, Windows RT, Windows 7, Windows Vista, Windows XP, Mac OS X 10.5 or later, Linux kernel 2.6+ Windows 8, Windows RT, Windows 7Windows 8, Windows 7', '* Battery life may vary based on user and computing conditions.']   \n",
            "4                                                                                                                                                                                                                                                                                                                                                                                                                                                                                                                                                                                                                                                                                                                                                                                                                                                                                                                                                                                                                                                                                                                                                                                                                                                                                                                                                                                                                                                                                                                                                                                                                                                                                                                                                                                                                                                                                                                                                                                                                                                                                                                                                                                                                                                                                                                                                                                                                                                                                                                                                                                                                                                                                                                                                                                                                                                                                                                                                                                                                                                                                                                                                                                                                                                                                                                                                                                                                                                                                                                                                                                                                                                                                                                                                                                                                                                                                                                                                                                                                                                                                                                                                                                                                                                                                                                                                             []   \n",
            "\n",
            "    price        store  \\\n",
            "0    6.60    DATA COMM   \n",
            "1   22.99  Flight Flap   \n",
            "2    9.88        AUPET   \n",
            "3  119.99     Logitech   \n",
            "4    9.99   Screen Mom   \n",
            "\n",
            "                                                                                                                  categories  \\\n",
            "0                        ['Electronics', 'Home Audio', 'Home Audio Accessories', 'Distribution', 'Wall Plates & Connectors']   \n",
            "1                                                 ['Electronics', 'Computers & Accessories', 'Tablet Accessories', 'Stands']   \n",
            "2                       ['Electronics', 'Computers & Accessories', 'Tablet Accessories', 'Bags, Cases & Sleeves', 'Sleeves']   \n",
            "3  ['Electronics', 'Computers & Accessories', 'Computer Accessories & Peripherals', 'Keyboards, Mice & Accessories', 'Mice']   \n",
            "4                      ['Electronics', 'Computers & Accessories', 'Computer Accessories & Peripherals', 'Cleaning & Repair']   \n",
            "\n",
            "                                                                                                                                                                                                                                                                                                                                                                                                                                                                                                                                                                                                                                                                                                                                                                                                                                                                                                                                                                                                                          details  \\\n",
            "0                                                                                                                                                                                                                                                                                                                                                                                                                                                                                                                                                                                                                                                              {\"Product Dimensions\": \"2.77 x 2.51 x 4.52 inches\", \"Item Weight\": \"2.4 ounces\", \"Item model number\": \"45-6001-WH-S\", \"Best Sellers Rank\": {\"Electronics\": 36340, \"Audio & Video Distribution Wall Plates\": 216}, \"Date First Available\": \"June 9, 2015\", \"Department\": \"Electronics\", \"Manufacturer\": \"DataComm Electronics, Inc.\", \"Country of Origin\": \"China\"}   \n",
            "1                                                                                                                                                                                                                                                                                                                                                                                                                                                                                                                                                              {\"Package Dimensions\": \"11.9 x 7 x 0.4 inches\", \"Item Weight\": \"3.2 ounces\", \"Item model number\": \"8541528899\", \"Best Sellers Rank\": {\"Unique Finds\": 2443, \"Unique Electronics\": 113, \"Tablet Stands\": 143}, \"Is Discontinued By Manufacturer\": \"No\", \"Date First Available\": \"April 25, 2018\", \"Manufacturer\": \"Flight Flap\", \"Brand\": \"Flight Flap\", \"Color\": \"XL\", \"Form Factor\": \"Bag\", \"Compatible Devices\": \"Laptops\", \"Compatible Phone Models\": \"Iphone\"}   \n",
            "2                                                                                                                                                                                                                                                                                                                                                                                                                                                                                                                                                                 {\"Standing screen display size\": \"8 Inches\", \"Brand\": \"AUPET\", \"Item model number\": \"Sleeves\", \"Item Weight\": \"3.19 ounces\", \"Package Dimensions\": \"9.21 x 6.77 x 0.79 inches\", \"Color\": \"Cute Wish Cat\", \"Manufacturer\": \"ProfessionalBags\", \"Is Discontinued By Manufacturer\": \"No\", \"Date First Available\": \"December 8, 2016\", \"Best Sellers Rank\": {\"Tablet Sleeves\": 1964}, \"Compatible Devices\": \"Tablets\", \"Form Factor\": \"Case\", \"Shell Type\": \"Soft\"}   \n",
            "3  {\"Hard Drive\": \"Logitech T630 Bluetooth Wireless Optical Ultrathin Touch Mouse (Black/Silver)\", \"Wireless Type\": \"802.11abg\", \"Average Battery Life (in hours)\": \"18 \\tmonths\", \"Brand\": \"Logitech\", \"Series\": \"910-003825\", \"Item model number\": \"910-003825\", \"Hardware Platform\": \"PC, Tablet\", \"Operating System\": \"Linux, Windows Vista, Windows XP, Windows 8, Windows 7, Windows 10\", \"Item Weight\": \"2.47 ounces\", \"Product Dimensions\": \"5.43 x 1.73 x 4.09 inches\", \"Item Dimensions  LxWxH\": \"5.43 x 1.73 x 4.09 inches\", \"Color\": \"Black/silver\", \"Batteries\": \"1 Lithium Polymer batteries required.\", \"Department\": \"Electronics\", \"Manufacturer\": \"Logitech\", \"Is Discontinued By Manufacturer\": \"No\", \"Date First Available\": \"August 28, 2013\", \"Best Sellers Rank\": {\"Climate Pledge Friendly\": 27520, \"Computer Mice\": 3394, \"Climate Pledge Friendly: Computers\": 4156}, \"Connectivity Technology\": \"Wireless, Bluetooth, USB\", \"Special Feature\": \"Wireless\", \"Movement Detection Technology\": \"Optical\"}   \n",
            "4                                                                                                                                                                                                                                                                                                                                                                                                                                                                                                                                                                                                                                                                                                       {\"Product Dimensions\": \"4.75 x 2.75 x 1.75 inches\", \"Item Weight\": \"4.6 ounces\", \"Manufacturer\": \"Screen Mom\", \"Country of Origin\": \"USA\", \"Item model number\": \"8541561527\", \"Best Sellers Rank\": {\"Computer Cleaning & Repair\": 21}, \"Is Discontinued By Manufacturer\": \"No\", \"Date First Available\": \"August 9, 2017\"}   \n",
            "\n",
            "                                                                                                                                                                                                                                                                                                                                                                                                                                                                                                                                                                                                                                                                                                                                                                                                                                                                                                                                                                                                                                                                                                                                                                                                                                                                                                                                                                                                                                                                                                                                                                                                                                                                                                                                                                                                                                                                                                                                                                                                                                                                                                                                                                                                                                                                                                                                                                                                                                                                                                                                                                                                                                                                                                                                                                                                                                                                                                                                                                                                                                                                                                                                                                                                                                                                       processed_description  \\\n",
            "0                                                                                                                                                                                                                                                                                                                                                                                                                                                                                                                                                                                                                                                                                                                                                                                                                                                                                                                                                                                                                                                                                                                                                                                                                                                                                                                                                                                                                                                                                                                                                                                                                                                                                                                                                                                                                                                                                                                                                                                                                                                                                                                                                                                                                                                                                                                                                                                                                                                                                                                                                                                                                                                                                                                                                                                                                                                                                                                                                                                                                                  datacomm electronics gang recessed low voltage cable plates used install low voltage cables behind panel tv amplier audio video devices etl listed cable plates designed installed onto low voltage mounting bracket cable plate installed opening facing   \n",
            "1                                                                                                                                                                                                                                                                                                                                                                                                                                                                                                                                                                                                                                                                                                                                                                                                                                                                                                                                                                                                                                                                                                                                                                                                                                                                                                                                                                                                                                                                                                                                                                                                                                                                                                                                                                                                                                                                                                                                                                                                                                                                                                                                                                                                                                                                                                                                                                                                                                                                                                                                                                                                                                                                                                                                                                                                                                                                                                                                                                                                                                                                                                                                                                                                                                                                                              \n",
            "2                                                                                                                                                                                                                                                                                                                                                                                                                                                                                                                                                                                                                                                                                                                                                                                                                                                                                                                                                                                                                                                                                                                                                                                                                                                                                                                                                                                                                                                                                                                                                                                                                                                                                                                                                                                                                                                                                                                                                                                                                                                                                                                                                                                                                                                                                                                                                                                                                                                                                                                                                                                                                                                                                                                                                                                                                                                                                                                                                                                                                                                                                                                                                                                                                                                                                              \n",
            "3  logitech ultrathin touch mouse beautifully crafted sophisticated design gorgeous brushed metallic body slim profile smooth windows touch surface match sleek looks ultrabook superthin featherlight ultraportable minimalist design bluetooth connectivity ultrabook tablet desktop computer see detailed features logitech ultrathin touch mouse love look ultrabook add little love mouse complements perfectly headturning highperforming logitech ultrathin touch mouse small ultraportable enlarge ideal match ultrabooks brushed metallic body silky smooth touch surface brushed metallic body silky smooth touch surface perfectly complements sleek good looks stunning profile ultrabook computer perfectly complements sleek good looks stunning profile ultrabook computer enlarge one mouse multiple devices connects ultrabook tablet computer using bluetooth wireless connects ultrabook tablet computer using bluetooth wireless logitech easyswitch technologytoggle devices simple flip switch logitech easyswitch technologytoggle devices simple flip switch enlarge ultraportable pair finally mouse ultraportable ultrabook go everywhere super thin feather light super thin feather light slips nearly invisibly computer sleeve even pocket skinniest jeans slips nearly invisibly computer sleeve even pocket skinniest jeans enlarge hasslefree rechargeability forget battery hassles mouse charges usb ready mouse charges usb ready recharge fastjust one minute charge time gives enough power keep working another hour recharge fastjust one minute charge time gives enough power keep working another hour enlarge effortless windows touch gestures experience new windows navigationeffortlessly confidently experience new windows navigationeffortlessly confidently simplifies touch navigation experience natural intuitive gesturesand makes look feel good simplifies touch navigation experience natural intuitive gesturesand makes look feel good learn windows navigation based typical user experience results may vary compatibility whats box ultrathin touch mouse ultrathin touch mouse usb cable recharging usb cable recharging user documentation user documentation works windows windows windows windows usb port recharging usb port recharging internet connection software download internet connection software download compare logitech wireless mouse matches style wireless mouse zone touch mouse ultrathin touch mouse goodbetterbest get traditional mouse designedforweb scrollinga traditional mouse familiar buttons plus touch zone smooth scrollinga fulltouchsurface mouse beautifully crafted complement ultrabooks wireless connection usb unifying receiverusb unifying receiverbluetooth scrolling method scroll wheeltouch zone swipeandscrolltouch surface swipeandscroll touch gestures na ultrasmooth touch surface fluid precise control touch zonefull touch surface profile classicstreamlinedultrathin battery life monthsup monthsrechargeable days full charge size compactfull sizeultraportable compatibility windows windows rt windows windows vista windows xp mac os x later linux kernel windows windows rt windows windows windows battery life may vary based user computing conditions   \n",
            "4                                                                                                                                                                                                                                                                                                                                                                                                                                                                                                                                                                                                                                                                                                                                                                                                                                                                                                                                                                                                                                                                                                                                                                                                                                                                                                                                                                                                                                                                                                                                                                                                                                                                                                                                                                                                                                                                                                                                                                                                                                                                                                                                                                                                                                                                                                                                                                                                                                                                                                                                                                                                                                                                                                                                                                                                                                                                                                                                                                                                                                                                                                                                                                                                                                                                                              \n",
            "\n",
            "   scaled_price  scaled_rating  cluster  \n",
            "0     -0.386169      -0.357494        0  \n",
            "1     -0.215227      -2.981242        1  \n",
            "2     -0.351960       0.517089        0  \n",
            "3      0.796452      -1.232077        1  \n",
            "4     -0.350812       0.517089        0  \n"
          ]
        }
      ]
    },
    {
      "cell_type": "markdown",
      "source": [
        "Visualize clusters using dimensionality reduction\n",
        "techniques"
      ],
      "metadata": {
        "id": "PoyJnzvwDZ0X"
      }
    },
    {
      "cell_type": "code",
      "source": [
        "# Reduce dimensions for visualization\n",
        "pca = PCA(n_components=2, random_state=42)\n",
        "reduced_features = pca.fit_transform(combined_features.toarray())\n",
        "\n",
        "# Add reduced features to DataFrame\n",
        "electronics['pca1'] = reduced_features[:, 0]\n",
        "electronics['pca2'] = reduced_features[:, 1]\n",
        "\n",
        "# Plot the clusters\n",
        "plt.figure(figsize=(12, 8))\n",
        "sns.scatterplot(x='pca1', y='pca2', hue='cluster', data=electronics, palette='viridis', s=100, alpha=0.8)\n",
        "plt.title('Product Clusters (Visualized with PCA)')\n",
        "plt.xlabel('Principal Component 1')\n",
        "plt.ylabel('Principal Component 2')\n",
        "plt.legend(title='Cluster')\n",
        "plt.grid(True)\n",
        "plt.show()"
      ],
      "metadata": {
        "id": "ol4WY3_RG1xB",
        "colab": {
          "base_uri": "https://localhost:8080/",
          "height": 718
        },
        "outputId": "575b0f08-f895-40a2-a4c1-f93d287c16f0"
      },
      "execution_count": 45,
      "outputs": [
        {
          "output_type": "display_data",
          "data": {
            "text/plain": [
              "<Figure size 1200x800 with 1 Axes>"
            ],
            "image/png": "[encoded data removed]"
          },
          "metadata": {}
        }
      ]
    },
    {
      "cell_type": "markdown",
      "source": [
        "Silhouette Score: Measures how similar items within a cluster are compared to items in other clusters."
      ],
      "metadata": {
        "id": "RLM2rEU5DfjT"
      }
    },
    {
      "cell_type": "code",
      "source": [
        "# Use the silhouette analysis to see how good the clustering is done\n",
        "score = silhouette_score(combined_features, electronics['cluster'])\n",
        "print(f\"\\nSilhouette Score for k={optimal_k}: {score:.3f}\")"
      ],
      "metadata": {
        "id": "braDrpdrHN-u",
        "colab": {
          "base_uri": "https://localhost:8080/"
        },
        "outputId": "937c6fcb-2e81-4e89-dad4-452b64f27bf1"
      },
      "execution_count": 46,
      "outputs": [
        {
          "output_type": "stream",
          "name": "stdout",
          "text": [
            "\n",
            "Silhouette Score for k=3: 0.574\n"
          ]
        }
      ]
    },
    {
      "cell_type": "code",
      "source": [
        "# Analyze the top terms per cluster\n",
        "print(\"\\nTop Terms per Cluster:\")\n",
        "order_centroids = kmeans.cluster_centers_.argsort()[:, ::-1]\n",
        "terms = tf_electronics.get_feature_names_out()\n",
        "\n",
        "for i in range(optimal_k):\n",
        "    # Get top 10 terms, ensuring indices are within the bounds of the terms array\n",
        "    top_terms_indices = [ind for ind in order_centroids[i, :] if ind < len(terms)][:10]\n",
        "    top_terms = [terms[ind] for ind in top_terms_indices]\n",
        "    print(f\"Cluster {i}: {', '.join(top_terms)}\")"
      ],
      "metadata": {
        "id": "WM6gCh7HHPra",
        "colab": {
          "base_uri": "https://localhost:8080/"
        },
        "outputId": "34ca29e5-29cf-4d44-920a-e4bd428b106d"
      },
      "execution_count": 47,
      "outputs": [
        {
          "output_type": "stream",
          "name": "stdout",
          "text": [
            "\n",
            "Top Terms per Cluster:\n",
            "Cluster 0: cable, laptop, inch, ft, product, usb, connector, amazon, basics, ipad\n",
            "Cluster 1: mouse, bluetooth, charge, open, usb, keyboard, windows, ipad, fitbit, computer\n",
            "Cluster 2: gb, google, ghz, windows, home, hd, requires, may, pixel, laptop\n"
          ]
        }
      ]
    },
    {
      "cell_type": "markdown",
      "source": [
        "# **Task 2: Recommendation System**"
      ],
      "metadata": {
        "id": "zzuA2f82KoQa"
      }
    },
    {
      "cell_type": "markdown",
      "source": [
        "Collaborative Filtering\n",
        "\n",
        "\n"
      ],
      "metadata": {
        "id": "g0HsNROwE9qV"
      }
    },
    {
      "cell_type": "code",
      "source": [
        "# We only keep the neccessary columns\n",
        "cf_electronics = electronics[['user_id', 'asin', 'rating']].copy()\n",
        "\n",
        "# For better results we'll only use active users and products that have been rated a lot\n",
        "user_counts = cf_electronics['user_id'].value_counts()\n",
        "item_counts = cf_electronics['asin'].value_counts()\n",
        "\n",
        "cf_electronics = cf_electronics[cf_electronics['user_id'].isin(user_counts[user_counts >= 1].index)]\n",
        "cf_electronics = cf_electronics[cf_electronics['asin'].isin(item_counts[item_counts >= 1].index)]"
      ],
      "metadata": {
        "id": "GVNGyBNSLp_H"
      },
      "execution_count": 56,
      "outputs": []
    },
    {
      "cell_type": "code",
      "source": [
        "# Create the user-item matrix\n",
        "user_item_matrix = cf_electronics.pivot_table(index='user_id', columns='asin', values='rating').fillna(0)\n",
        "\n",
        "# Calculate user similarity\n",
        "user_similarity = cosine_similarity(user_item_matrix)\n",
        "user_similarity_df = pd.DataFrame(user_similarity, index=user_item_matrix.index, columns=user_item_matrix.index)\n",
        "\n",
        "# Perform user based collaborative filtering\n",
        "def get_user_based_recommendations(user_id, k=5):\n",
        "  # Find the top most similar users\n",
        "  similar_users = user_similarity_df[user_id].sort_values(ascending=False).index[1:k+1]\n",
        "\n",
        "  # Get the items the users have rated excluding the target user items\n",
        "  similar_users_items = user_item_matrix.loc[similar_users]\n",
        "  user_items = user_item_matrix.loc[user_id]\n",
        "\n",
        "  recommendations = {}\n",
        "  for item in similar_users_items.columns:\n",
        "    # Only consider items the target user hasn't rated yet\n",
        "    if user_items[item] == 0:\n",
        "      weighted_sum = 0\n",
        "      similarity_sum = 0\n",
        "      for similar_user in similar_users:\n",
        "        # If the similar user has rated this item\n",
        "        if similar_users_items.loc[similar_user, item] > 0:\n",
        "          # Get similarity between target user and similar user\n",
        "          similarity = user_similarity_df.loc[user_id, similar_user]\n",
        "\n",
        "          # Add to weighted sum and similarity sum\n",
        "          weighted_sum += similar_users_items.loc[similar_user, item] * similarity\n",
        "          similarity_sum += similarity\n",
        "\n",
        "        # Calculate predicted rating\n",
        "        if similarity_sum > 0:\n",
        "          recommendations[item] = weighted_sum / similarity_sum\n",
        "\n",
        "  # Sort the recommendations by predicted rating in descending order\n",
        "  sorted_recommendations = sorted(recommendations.items(), key=lambda x: x[1], reverse=True)\n",
        "  return sorted_recommendations\n",
        "\n",
        "# Calculate item similarity\n",
        "item_similarity = cosine_similarity(user_item_matrix.T)\n",
        "item_similarity_df = pd.DataFrame(item_similarity, index=user_item_matrix.columns, columns=user_item_matrix.columns)\n",
        "\n",
        "# Perform item based collaborative filtering\n",
        "def get_item_based_recommendations(user_id, k=5):\n",
        "  user_ratings = user_item_matrix.loc[user_id]\n",
        "  rated_items = user_ratings[user_ratings > 0].index\n",
        "\n",
        "  recommendations = {}\n",
        "  for item in user_item_matrix.columns:\n",
        "    # Only consider items the target user hasn't rated yet\n",
        "    if user_ratings[item] == 0:\n",
        "      weighted_sum = 0\n",
        "      similarity_sum = 0\n",
        "      for rated_item in rated_items:\n",
        "        similarity = item_similarity_df.loc[item, rated_item]\n",
        "\n",
        "        # Add to weighted sum and similarity sum\n",
        "        if similarity > 0:\n",
        "          weighted_sum += user_ratings[rated_item] * similarity\n",
        "          similarity_sum += similarity\n",
        "\n",
        "      # Calculate predicted rating if valid contributors exist\n",
        "      if similarity_sum > 0:\n",
        "        recommendations[item] = weighted_sum / similarity_sum\n",
        "\n",
        "  sorted_recommendations = sorted(recommendations.items(), key=lambda x: x[1], reverse=True)\n",
        "  return sorted_recommendations\n",
        "\n",
        "\n",
        "sample_user_id = cf_electronics['user_id'].iloc[0]\n",
        "\n",
        "print(f\"\\n--- Recommendations for user: {sample_user_id} ---\")\n",
        "print(\"\\nUser-Based CF Recommendations (Top 5):\")\n",
        "print(get_user_based_recommendations(sample_user_id, 5)[:5])\n",
        "print(\"\\nItem-Based CF Recommendations (Top 5):\")\n",
        "print(get_item_based_recommendations(sample_user_id, 5)[:5])"
      ],
      "metadata": {
        "id": "5cAFkD_1O_z6",
        "colab": {
          "base_uri": "https://localhost:8080/"
        },
        "outputId": "a3c12506-cedf-4584-dae0-c2a25ce72d05"
      },
      "execution_count": 57,
      "outputs": [
        {
          "output_type": "stream",
          "name": "stdout",
          "text": [
            "\n",
            "--- Recommendations for user: AEVWAM3YWN5URJVJIZZ6XPD2MKIA ---\n",
            "\n",
            "User-Based CF Recommendations (Top 5):\n",
            "[]\n",
            "\n",
            "Item-Based CF Recommendations (Top 5):\n",
            "[]\n"
          ]
        }
      ]
    },
    {
      "cell_type": "markdown",
      "source": [
        "Content-Based Filtering"
      ],
      "metadata": {
        "id": "aHduRHpKFT6s"
      }
    },
    {
      "cell_type": "code",
      "source": [
        "# Data preparation for Content-Based Filtering\n",
        "cbf_electronics = electronics[['asin', 'title', 'description', 'price', 'main_category']].copy()\n",
        "cbf_electronics.drop_duplicates(subset=['asin'], inplace=True)\n",
        "cbf_electronics.set_index('asin', inplace=True)\n",
        "\n",
        "# Load the stop words\n",
        "stop_words = set(stopwords.words('english'))\n",
        "\n",
        "def clean_text(text):\n",
        "  # We only keep the letters and the spaces and we transform them to lower case letters\n",
        "  cleaned_text = re.sub(r'[^a-zA-Z\\s]', '', str(text))\n",
        "  cleaned_text = cleaned_text.lower()\n",
        "\n",
        "  # We remove the stopwords\n",
        "  words = cleaned_text.split()\n",
        "  filtered_words = [word for word in words if word not in stop_words]\n",
        "\n",
        "  # We combine all the words to one string\n",
        "  text = ' '.join(filtered_words)\n",
        "  return text\n",
        "\n",
        "# Ensure both columns are strings before concatenating\n",
        "cbf_electronics['processed_text'] = cbf_electronics['title'].astype(str) + \" \" + cbf_electronics['description'].astype(str).fillna('')\n",
        "cbf_electronics['processed_text'] = cbf_electronics['processed_text'].apply(clean_text)\n",
        "\n",
        "# Normalize the price column\n",
        "scaler = MinMaxScaler()\n",
        "def clean_price(price):\n",
        "  try:\n",
        "    return float(price)\n",
        "  except ValueError:\n",
        "    return np.nan\n",
        "\n",
        "cbf_electronics['price'] = cbf_electronics['price'].apply(clean_price)\n",
        "cbf_electronics.dropna(subset=['price'], inplace=True)\n",
        "cbf_electronics['price_scaled'] = scaler.fit_transform(cbf_electronics[['price']])\n",
        "\n",
        "# Add the scaled price column to the column we aregoing to use for the recommendations\n",
        "cbf_electronics['processed_text'] = cbf_electronics['processed_text'] + \" \" + cbf_electronics['price_scaled'].astype(str)"
      ],
      "metadata": {
        "id": "EpV-eeAOQeqt"
      },
      "execution_count": 58,
      "outputs": []
    },
    {
      "cell_type": "code",
      "source": [
        "# Train the word2vec model\n",
        "sentences = [text.split() for text in cbf_electronics['processed_text']]\n",
        "word2vec_electronics = Word2Vec(sentences, vector_size=100, window=5, min_count=1, workers=4)\n",
        "\n",
        "def get_document_vector(text, model):\n",
        "  # Split the text to tokens\n",
        "  tokens = text.split()\n",
        "\n",
        "  # Create a vector and initialize it to 0\n",
        "  vector = np.zeros(model.vector_size)\n",
        "  count = 0\n",
        "\n",
        "  # Iterate through all words\n",
        "  for word in tokens:\n",
        "    # If word exists in model add it to the document\n",
        "    if word in model.wv:\n",
        "      vector += model.wv[word]\n",
        "      count += 1\n",
        "  if count != 0:\n",
        "    vector /= count\n",
        "  return vector\n",
        "\n",
        "cbf_electronics['vector'] = cbf_electronics['processed_text'].apply(lambda x: get_document_vector(x, word2vec_electronics))\n",
        "\n",
        "# Calculate cosine similarity between product vectors\n",
        "products = np.array(cbf_electronics['vector'].tolist())\n",
        "product_similarity = cosine_similarity(products)\n",
        "product_similarity_df = pd.DataFrame(product_similarity, index=cbf_electronics.index, columns=cbf_electronics.index)\n",
        "\n",
        "# Get recommendations for a sample product\n",
        "sample_product_asin = cbf_electronics.index[0]\n",
        "num_recommendations = 5\n",
        "\n",
        "print(f\"\\n--- CBF Recommendations for product: {sample_product_asin} ---\")\n",
        "# Get similarity scores for the sample product, sort them, and get top recommendations\n",
        "similar_products = product_similarity_df[sample_product_asin].sort_values(ascending=False).index[1:num_recommendations+1]\n",
        "\n",
        "# Retrieve the details of the recommended products\n",
        "recommended_products_details = cbf_electronics.loc[similar_products]\n",
        "print(recommended_products_details)"
      ],
      "metadata": {
        "id": "e-4VqwbDQOOA",
        "colab": {
          "base_uri": "https://localhost:8080/"
        },
        "outputId": "e5f8aea8-a7f5-4318-df12-198a4c1d199f"
      },
      "execution_count": 59,
      "outputs": [
        {
          "output_type": "stream",
          "name": "stdout",
          "text": [
            "\n",
            "--- CBF Recommendations for product: B001PL3XJS ---\n",
            "                                                                             title  \\\n",
            "asin                                                                                 \n",
            "B01L1HH5TY                                                       Excellent Product   \n",
            "B000067SPK                                                              Four Stars   \n",
            "B00J7IHRPW               Long Lightning Cable Is Sturdy, Reliable, Apple-Certified   \n",
            "B00X7B1OK4  Soo compact and sense of tidiness on extremely cluttered desk and case   \n",
            "B00JWTVNU6                                             Nice cord, 2 year warranty.   \n",
            "\n",
            "                                                                                                                                                                                                                                                                                                                                                                                                                                                                                                                                                                                                                                                                                                                                                                                                                                                                                                                                                                                                                                                                                                                                                                                                                                                                                                                                                                                                                                                                                                                                                                                                                                                                                                                                                                                                                                                                                                                                                                                                                                                                                                                                                                                                                                                                                    description  \\\n",
            "asin                                                                                                                                                                                                                                                                                                                                                                                                                                                                                                                                                                                                                                                                                                                                                                                                                                                                                                                                                                                                                                                                                                                                                                                                                                                                                                                                                                                                                                                                                                                                                                                                                                                                                                                                                                                                                                                                                                                                                                                                                                                                                                                                                                                                                                                                                              \n",
            "B01L1HH5TY                                                                                                                                                                                                                                                                                                                                                                                                                                                                                                                                                                                                                                                                                                                                                                                                                                                                                                                                                         ['High Speed 6FT Nylon Braided USB 2.0 Charger Cable', '1.High-grade copper wires, the gauge of wire is so much thicker than competing cables such that it resists internal corrosion, abrasions and more.  2.Charges up to 7% faster than standard cables than original device cables and transfers data at 480Mbps via USB 2.0 port. 3.Charge your device and Sync with your computer to transfer music, videos, or files at meantime.', 'Safe and Reliable:', '1.Nylon Braided sheathing ensures reduces heating while fast charging over AC Adapter ensuring quicker charging rates and less time. 2.Tangle-Free, Sturdy, Durable & Flexible, Premium nylon fiber braided Jacket and Sturdy plugs for long-term using. 3.Extra long,Extra durable: keeps your devices connected over a much greater distance, Replace your cable and add more convenient for Play device at home, work or travel. 4.Aluminum shell connectot which is sturdier than the normal cable to increase durability and safety, guaranteed to head slot in easily but secure fits.', 'Specification:', 'Material:Nylon Braided +Aluminum shell Cable Length:2M (6FT) Hi-Speed USB 2.0 data transfer', 'Package List:', '5 x Nylon Braided Cable', 'CCLV:', 'At CCLV we take full ownership and responsibility for the quality of our products.']   \n",
            "B000067SPK  ['Triple-coaxial + twisted-pair wire for crystal clear display Durably constructed cable, with high quality HD15 connectors Impedance matched at 75 Ohms for full brightness and vibrant picture color from your VGA monitor High quality VGA connectors with molded PVC strain relief The MXT101MMHQ60 High Resolution VGA Cable (60ft) is designed to provide the highest video quality possible through VGA, ideally suited for high resolution applications of 1920x1200 and above. This durably constructed coaxial VGA video cable (HD15 to HD15) eliminates the picture \"ghosting\" and fuzzy images that are inherent to non-coaxial VGA cables, while delivering superior EMI interference protection by using ferrite cores near the connector ends. Replace a worn-out or missing VGA monitor cable with this high quality, coax VGA cable Supports high resolution VGA monitors (1920x1200) Connect a high resolution display to a Desktop PC or video switch, up to 60 feet away Extends your VGA signal to work with your monitor, splitters, and projectors Supports high resolution VGA video (1920x1200 or above), suitable for a wide range of applications Ferrite cores help eliminate EMI interference Backed by StarTech.com lifetime warranty Specifications Warranty Information Warranty Lifetime Connector(s) 1 - Connector A VGA (15 pin, High Density D-Sub) 1 - Connector B VGA (15 pin, High Density D-Sub) Environmental Operating Temperature 0 to 60 °C Storage Temperature -20 to 80 °C Humidity 0 - 80 %RH Hardware Number of Conductors 14 Connector Plating Nickel Cable Jacket Material PVC - Polyvinyl Chloride Cable Shield Material Aluminum-Mylar Foil with Braid Fire Rating CMG Rated (General Purpose) Number of Ferrites 1 Packaging Information Package Height 3.6 in [9.2 cm] Package Length 18.1 in [46.0 cm] Shipping (Package) Weight 3.8 lb [1.7 kg] Package Width 13.8 in [35.0 cm] Package Quantity 1 Physical Characteristics Weight of Product 3.7 lb [1.7 kg] Product Width 0.0 in [0.0 mm] Product Height 0.0 in [0.0 mm] Color Black Wire Gauge 28 AWG Cable Length 60.0 ft [18.3 m] Product Length 60.0 ft [18.3 m] What\\'s in the Box 1 - Included in Package 60 ft Coax High Resolution Monitor VGA Cable - HD15 M/M']   \n",
            "B00J7IHRPW                                                                                                                                                                                         [\"1x Apple Lightning (8-pin) Connector 1x USB 'A' male connector Reversible Lightning connector Offers 2m in cable length Aluminum-Mylar Foil with Braided Shielding Supports high-speed USB data transfer rates of up to 480 Mbps The USBLT2MB 2m Black Lightning to USB Cable for iPhone, iPod, and iPad provides a reliable solution for charging and syncing your newer generation Apple® mobile devices with your PC or Mac® computer, through an available USB port. This longer Lightning USB cable offers 2-meters in cable length to overcome distance restrictions while still providing full charging power. Plus, the reversible 8-pin Lightning connector can be plugged into your iOS-enabled device with either side facing up, meaning there is no wrong way of inserting the cable into the device. This durable cable is Apple MFi certified and backed by StarTech.com's 2-year Warranty to ensure dependable performance. Charge and Sync Lightning-equipped Apple mobile digital devices Complements your black Apple mobile devices No incorrect way of plugging the connector into your mobile device Offers more flexible positioning of your Lightning-enabled mobile digital device while charging – up to 2 meters distance from your charger Specifications Warranty Information Warranty 2 Years Connector(s) 1 - Connector A USB Type-A (4 pin) USB 2.0 1 - Connector B Apple Lightning Connector (8-pin) Hardware Connector Plating Nickel Cable Jacket Material PVC - Polyvinyl Chloride Cable Shield Material Aluminum-Mylar Foil with Braid Packaging Information Package Height 0,2 in [4,0 mm] Package Length 5,0 in [12,8 cm] Shipping (Package) Weight 2,7 oz [76,0 g] Package Width 0,9 in [2,2 cm] Package Quantity 1 Physical Characteristics Weight of Product 2,3 oz [66,0 g] Product Height 0,3 in [7,0 mm] Product Width 0,6 in [1,5 cm] Color Black Connector Style Straight Wire Gauge 22/28 AWG Cable Length 6,6 ft [2 m] Product Length 6,6 ft [2,0 m] What's in the Box 1 - Included in Package 2m Black Lighting Connector to USB Cable\"]   \n",
            "B00X7B1OK4                                                                                                                                                                                         [\"1x Apple Lightning (8-pin) Connector 1x USB 'A' male connector Reversible Lightning connector Offers 2m in cable length Aluminum-Mylar Foil with Braided Shielding Supports high-speed USB data transfer rates of up to 480 Mbps The USBLT2MB 2m Black Lightning to USB Cable for iPhone, iPod, and iPad provides a reliable solution for charging and syncing your newer generation Apple® mobile devices with your PC or Mac® computer, through an available USB port. This longer Lightning USB cable offers 2-meters in cable length to overcome distance restrictions while still providing full charging power. Plus, the reversible 8-pin Lightning connector can be plugged into your iOS-enabled device with either side facing up, meaning there is no wrong way of inserting the cable into the device. This durable cable is Apple MFi certified and backed by StarTech.com's 2-year Warranty to ensure dependable performance. Charge and Sync Lightning-equipped Apple mobile digital devices Complements your black Apple mobile devices No incorrect way of plugging the connector into your mobile device Offers more flexible positioning of your Lightning-enabled mobile digital device while charging – up to 2 meters distance from your charger Specifications Warranty Information Warranty 2 Years Connector(s) 1 - Connector A USB Type-A (4 pin) USB 2.0 1 - Connector B Apple Lightning Connector (8-pin) Hardware Connector Plating Nickel Cable Jacket Material PVC - Polyvinyl Chloride Cable Shield Material Aluminum-Mylar Foil with Braid Packaging Information Package Height 0,2 in [4,0 mm] Package Length 5,0 in [12,8 cm] Shipping (Package) Weight 2,7 oz [76,0 g] Package Width 0,9 in [2,2 cm] Package Quantity 1 Physical Characteristics Weight of Product 2,3 oz [66,0 g] Product Height 0,3 in [7,0 mm] Product Width 0,6 in [1,5 cm] Color Black Connector Style Straight Wire Gauge 22/28 AWG Cable Length 6,6 ft [2 m] Product Length 6,6 ft [2,0 m] What's in the Box 1 - Included in Package 2m Black Lighting Connector to USB Cable\"]   \n",
            "B00JWTVNU6                                                                                                                                                                                         [\"1x Apple Lightning (8-pin) Connector 1x USB 'A' male connector Reversible Lightning connector Offers 2m in cable length Aluminum-Mylar Foil with Braided Shielding Supports high-speed USB data transfer rates of up to 480 Mbps The USBLT2MB 2m Black Lightning to USB Cable for iPhone, iPod, and iPad provides a reliable solution for charging and syncing your newer generation Apple® mobile devices with your PC or Mac® computer, through an available USB port. This longer Lightning USB cable offers 2-meters in cable length to overcome distance restrictions while still providing full charging power. Plus, the reversible 8-pin Lightning connector can be plugged into your iOS-enabled device with either side facing up, meaning there is no wrong way of inserting the cable into the device. This durable cable is Apple MFi certified and backed by StarTech.com's 2-year Warranty to ensure dependable performance. Charge and Sync Lightning-equipped Apple mobile digital devices Complements your black Apple mobile devices No incorrect way of plugging the connector into your mobile device Offers more flexible positioning of your Lightning-enabled mobile digital device while charging – up to 2 meters distance from your charger Specifications Warranty Information Warranty 2 Years Connector(s) 1 - Connector A USB Type-A (4 pin) USB 2.0 1 - Connector B Apple Lightning Connector (8-pin) Hardware Connector Plating Nickel Cable Jacket Material PVC - Polyvinyl Chloride Cable Shield Material Aluminum-Mylar Foil with Braid Packaging Information Package Height 0,2 in [4,0 mm] Package Length 5,0 in [12,8 cm] Shipping (Package) Weight 2,7 oz [76,0 g] Package Width 0,9 in [2,2 cm] Package Quantity 1 Physical Characteristics Weight of Product 2,3 oz [66,0 g] Product Height 0,3 in [7,0 mm] Product Width 0,6 in [1,5 cm] Color Black Connector Style Straight Wire Gauge 22/28 AWG Cable Length 6,6 ft [2 m] Product Length 6,6 ft [2,0 m] What's in the Box 1 - Included in Package 2m Black Lighting Connector to USB Cable\"]   \n",
            "\n",
            "            price              main_category  \\\n",
            "asin                                           \n",
            "B01L1HH5TY  11.49  Cell Phones & Accessories   \n",
            "B000067SPK  32.20            All Electronics   \n",
            "B00J7IHRPW  18.00                  Computers   \n",
            "B00X7B1OK4  18.00                  Computers   \n",
            "B00JWTVNU6  18.00                  Computers   \n",
            "\n",
            "                                                                                                                                                                                                                                                                                                                                                                                                                                                                                                                                                                                                                                                                                                                                                                                                                                                                                                                                                                                                                                                                                                                                                                                                                                                                                                                                                                                                                                                                                                                                                                                                                                                                                                                                                                                                       processed_text  \\\n",
            "asin                                                                                                                                                                                                                                                                                                                                                                                                                                                                                                                                                                                                                                                                                                                                                                                                                                                                                                                                                                                                                                                                                                                                                                                                                                                                                                                                                                                                                                                                                                                                                                                                                                                                                                                                                                                                                    \n",
            "B01L1HH5TY                                                                                                                                                                                                                                                                                                                                                                                                                                                                                                                                                                                                                                                                                                                                                                      excellent product high speed ft nylon braided usb charger cable highgrade copper wires gauge wire much thicker competing cables resists internal corrosion abrasions charges faster standard cables original device cables transfers data mbps via usb port charge device sync computer transfer music videos files meantime safe reliable nylon braided sheathing ensures reduces heating fast charging ac adapter ensuring quicker charging rates less time tanglefree sturdy durable flexible premium nylon fiber braided jacket sturdy plugs longterm using extra longextra durable keeps devices connected much greater distance replace cable add convenient play device home work travel aluminum shell connectot sturdier normal cable increase durability safety guaranteed head slot easily secure fits specification materialnylon braided aluminum shell cable lengthm ft hispeed usb data transfer package list x nylon braided cable cclv cclv take full ownership responsibility quality products 0.012020280025517912   \n",
            "B000067SPK  four stars triplecoaxial twistedpair wire crystal clear display durably constructed cable high quality hd connectors impedance matched ohms full brightness vibrant picture color vga monitor high quality vga connectors molded pvc strain relief mxtmmhq high resolution vga cable ft designed provide highest video quality possible vga ideally suited high resolution applications x durably constructed coaxial vga video cable hd hd eliminates picture ghosting fuzzy images inherent noncoaxial vga cables delivering superior emi interference protection using ferrite cores near connector ends replace wornout missing vga monitor cable high quality coax vga cable supports high resolution vga monitors x connect high resolution display desktop pc video switch feet away extends vga signal work monitor splitters projectors supports high resolution vga video x suitable wide range applications ferrite cores help eliminate emi interference backed startechcom lifetime warranty specifications warranty information warranty lifetime connectors connector vga pin high density dsub connector b vga pin high density dsub environmental operating temperature c storage temperature c humidity rh hardware number conductors connector plating nickel cable jacket material pvc polyvinyl chloride cable shield material aluminummylar foil braid fire rating cmg rated general purpose number ferrites packaging information package height cm package length cm shipping package weight lb kg package width cm package quantity physical characteristics weight product lb kg product width mm product height mm color black wire gauge awg cable length ft product length ft whats box included package ft coax high resolution monitor vga cable hd mm 0.04678843635631066   \n",
            "B00J7IHRPW                                                                                                                 long lightning cable sturdy reliable applecertified x apple lightning pin connector x usb male connector reversible lightning connector offers cable length aluminummylar foil braided shielding supports highspeed usb data transfer rates mbps usbltmb black lightning usb cable iphone ipod ipad provides reliable solution charging syncing newer generation apple mobile devices pc mac computer available usb port longer lightning usb cable offers meters cable length overcome distance restrictions still providing full charging power plus reversible pin lightning connector plugged iosenabled device either side facing meaning wrong way inserting cable device durable cable apple mfi certified backed startechcoms year warranty ensure dependable performance charge sync lightningequipped apple mobile digital devices complements black apple mobile devices incorrect way plugging connector mobile device offers flexible positioning lightningenabled mobile digital device charging meters distance charger specifications warranty information warranty years connectors connector usb typea pin usb connector b apple lightning connector pin hardware connector plating nickel cable jacket material pvc polyvinyl chloride cable shield material aluminummylar foil braid packaging information package height mm package length cm shipping package weight oz g package width cm package quantity physical characteristics weight product oz g product height mm product width cm color black connector style straight wire gauge awg cable length ft product length ft whats box included package black lighting connector usb cable 0.022949333512406408   \n",
            "B00X7B1OK4                                                                                                            soo compact sense tidiness extremely cluttered desk case x apple lightning pin connector x usb male connector reversible lightning connector offers cable length aluminummylar foil braided shielding supports highspeed usb data transfer rates mbps usbltmb black lightning usb cable iphone ipod ipad provides reliable solution charging syncing newer generation apple mobile devices pc mac computer available usb port longer lightning usb cable offers meters cable length overcome distance restrictions still providing full charging power plus reversible pin lightning connector plugged iosenabled device either side facing meaning wrong way inserting cable device durable cable apple mfi certified backed startechcoms year warranty ensure dependable performance charge sync lightningequipped apple mobile digital devices complements black apple mobile devices incorrect way plugging connector mobile device offers flexible positioning lightningenabled mobile digital device charging meters distance charger specifications warranty information warranty years connectors connector usb typea pin usb connector b apple lightning connector pin hardware connector plating nickel cable jacket material pvc polyvinyl chloride cable shield material aluminummylar foil braid packaging information package height mm package length cm shipping package weight oz g package width cm package quantity physical characteristics weight product oz g product height mm product width cm color black connector style straight wire gauge awg cable length ft product length ft whats box included package black lighting connector usb cable 0.022949333512406408   \n",
            "B00JWTVNU6                                                                                                                                             nice cord year warranty x apple lightning pin connector x usb male connector reversible lightning connector offers cable length aluminummylar foil braided shielding supports highspeed usb data transfer rates mbps usbltmb black lightning usb cable iphone ipod ipad provides reliable solution charging syncing newer generation apple mobile devices pc mac computer available usb port longer lightning usb cable offers meters cable length overcome distance restrictions still providing full charging power plus reversible pin lightning connector plugged iosenabled device either side facing meaning wrong way inserting cable device durable cable apple mfi certified backed startechcoms year warranty ensure dependable performance charge sync lightningequipped apple mobile digital devices complements black apple mobile devices incorrect way plugging connector mobile device offers flexible positioning lightningenabled mobile digital device charging meters distance charger specifications warranty information warranty years connectors connector usb typea pin usb connector b apple lightning connector pin hardware connector plating nickel cable jacket material pvc polyvinyl chloride cable shield material aluminummylar foil braid packaging information package height mm package length cm shipping package weight oz g package width cm package quantity physical characteristics weight product oz g product height mm product width cm color black connector style straight wire gauge awg cable length ft product length ft whats box included package black lighting connector usb cable 0.022949333512406408   \n",
            "\n",
            "            price_scaled  \\\n",
            "asin                       \n",
            "B01L1HH5TY      0.012020   \n",
            "B000067SPK      0.046788   \n",
            "B00J7IHRPW      0.022949   \n",
            "B00X7B1OK4      0.022949   \n",
            "B00JWTVNU6      0.022949   \n",
            "\n",
            "                                                                                                                                                                                                                                                                                                                                                                                                                                                                                                                                                                                                                                                                                                                                                                                                                                                                                                                                                                                                                                                                                                                                                                                                                                                                                                                                                                                                                                                                                                                                                                                                                                                                                                                                                                                                                                                                                                                                                                                                                                                                                                                                                                                                                                                                                                                                                                                                                                         vector  \n",
            "asin                                                                                                                                                                                                                                                                                                                                                                                                                                                                                                                                                                                                                                                                                                                                                                                                                                                                                                                                                                                                                                                                                                                                                                                                                                                                                                                                                                                                                                                                                                                                                                                                                                                                                                                                                                                                                                                                                                                                                                                                                                                                                                                                                                                                                                                                                                                                                                                                                                             \n",
            "B01L1HH5TY  [-0.002279095401718223, 0.0006901912740618975, 0.0004774285539229715, 0.0015037559473164625, -0.001183860652257435, -0.0023128575837344056, 0.0018326276856575586, 0.0027806364020815477, -0.0017892403853318898, -0.0002977003827896517, -0.0011185583097732673, -0.0013485789762960527, -5.7195652088386635e-05, -0.0003075168843806483, 0.0008791309243914678, -0.0005736792199433479, 0.0001281525628923298, -0.002630470504541068, -2.285050330850508e-05, -0.0024941560328336303, 0.002591891988927005, 0.001043589617813054, 0.001061282143328914, -0.0008235078295162085, 6.931539270152932e-05, -0.00027210016988272616, -0.0014407455975528778, -0.0014707192955992307, -0.001223028854249552, -8.525461763544146e-05, 0.0018925803618485054, 0.0002298812060497071, -2.4026781722889554e-06, 0.0005402164929264205, 4.278129581373779e-05, 0.0021079069704629705, 0.00013154623951884466, -0.0018989367262132444, -0.000723384031730615, -0.003513477900496047, 0.00012489728953155195, -0.0020222470987739465, 0.00014925846121246542, 0.000396534006594105, 0.00028551179660580065, -0.0018657190606210646, -0.0009421443063033888, 0.0007551330895426765, 0.0013723312410601305, 0.000615633476894907, 0.001659686653618016, -0.0009608496818734292, -0.00016818704291247688, -0.00030083044122661436, -0.002216240086721989, 0.0011700323016424698, 0.0016383539638428267, 0.0001534849593821598, -0.0018871830727542093, 0.00012717948882656107, 0.0011686270766885548, 0.0008246595145518607, -0.0010906592917094445, -0.0012086461902072188, -0.0011527103341744376, 0.0005114173284656478, -0.0006123096019270152, 0.0015726452016037108, -0.001621952019056206, 0.0016479927457219352, -0.0003781024755720436, 0.0007105423003127618, 0.001020205154097365, 0.00019802852814203054, 0.0009751218080429466, 0.0010483546875815698, 0.0002135243696958402, -0.0005895473686370464, -0.0016935663426706656, 0.0008447164845539886, 2.5892431414617665e-05, -0.0005152469878821113, -0.0016097071421587745, 0.003040022278261912, -0.0002547968710774405, -0.00016290268112082712, 0.001088887357421781, 0.0018178884858892107, 0.0015916172634634301, 0.000821281596286968, 0.0005317721056599112, 0.0010703425847596543, 2.395817608323662e-05, 0.00034715215556121515, 0.0035987560188325864, 0.0011990964364740114, 0.0009432275393170558, -0.0034588397103267627, 0.000422724154411887, 0.0004504106300908675]  \n",
            "B000067SPK        [-0.0013333364282074765, 0.0005504520916403462, 0.0012720120885579965, 0.0015237977274780322, -0.000471286453628434, -0.003219179486076888, 0.0010096580943489378, 0.003307248919839146, -0.0014766367683987183, -0.0007797086887098006, -0.0015281533811398525, -0.0024532642406491713, -0.001205935703931614, -0.0004650989908740683, 0.00034220671776342954, -0.0017565367744870027, 0.00039880833640160927, -0.0025938016906478386, -0.0011055688796229104, -0.0036184582111171548, 0.0008322159376919055, 0.0013471920258784043, -0.0002321767628347643, 0.0012609467956752741, -0.0004853135473794331, 0.0005353498065547391, -0.002558932996869045, -0.001617975742993311, -0.0025245435933540328, -0.0004761412127413023, 0.001975558062893417, 0.001338362204972518, 0.00042919697412282495, -0.001148041277744892, -0.0010464318873069235, 0.0030902711771853284, 0.000689902241943189, -0.0012118609549862814, -0.0012176869288405476, -0.004891102844018033, 0.0002907202424466959, -0.002858409912104109, 8.686725595159219e-05, 0.0005089393955735985, 0.0006371828290687035, -0.0016356081766460365, -0.0027074855587607125, -0.0001013369787888747, 0.002311960650129347, 0.0019616357331634156, -0.0004129881498530443, -0.0009719297251103105, -0.00011366258782321211, -0.0004614621901526806, -0.0017592350601344639, 0.0011509184295851967, 0.0018641061268524172, -0.0010167548653680196, -0.0037718148920143696, 0.0011915725110845598, 0.0018283628955099698, 0.001535401158401294, 0.0006154897755887187, -5.1719728299036216e-05, -0.0023890438813306204, 0.0010024446864805706, 0.0001383926603850169, 0.002024237693916458, -0.0008956190670317112, 0.0023515143621422006, -0.0006658589732162801, 0.0006009162576230044, 0.0013816538741421663, -0.0006662100432426266, 0.004026013230945059, 0.0031811295089271417, 0.0001861574492517163, 0.0004669730612922387, -0.0005539146256407937, 3.126838646681573e-05, -0.0007625359205810311, 0.0005886973867970404, -0.0009520218905299584, 0.0020755823841031042, -0.0015020029794468128, 0.00046026774341002905, 0.0010739060510472265, 0.003053023517905512, 0.0013083498451284827, 0.001059392729434932, 0.002846312337749496, 0.00205433246777822, 0.0006336884515328498, 0.0014988806565139354, 0.0037923669485950655, 0.0030784002543449086, -2.726062708543882e-06, -0.003386989641894391, -0.0009200945172284983, -0.00018478875579513657]  \n",
            "B00J7IHRPW            [-0.001583387961030148, 0.0013196219514766659, 0.0010922016925949652, 0.0011048408846887502, -0.0009382547749368741, -0.003754313864192227, 0.0030349526279955306, 0.003856573955597563, -0.0015793431419900657, -0.0012349562022816508, -0.0004355579102203982, -0.002890920782917633, -0.00040372365924772757, 0.00022207574651818396, 0.0005302114011440856, -0.0020301399570364026, 0.0015825269733607116, -0.002837382695285715, -0.0007404835302501269, -0.005760730343182386, 0.001805920617271071, 0.0011234144985792227, 0.0013218653594831184, -0.0007788259446168156, -0.0007535219422215164, 0.0010879006260128322, -0.0030409215112505933, -0.0024249999053520903, -0.0021444288875097847, 0.0010078506031428241, 0.002662131916400322, 0.0020388406306908365, 0.0008694083127903984, -0.0015667575476009802, -0.001998588455816167, 0.004292274423940499, 0.0003671846886981957, -0.003003756263135602, -0.002180497048042869, -0.005323690393842915, 0.000343619681545265, -0.002311007580950573, 0.0018773148201667803, -0.00039963360707961454, 0.002589383089060848, -0.0010942392383868674, -0.0020857672822663844, 0.0008433578393211769, 0.0014389530746325258, 0.001430648750202271, 0.000660608343008588, -0.0016940097164412024, -0.0005722533682324229, -0.00043047592909782666, -0.0025307530321726753, 0.00022375897845990466, 0.0023659155696033915, -0.0007356903461940867, -0.0024734909954955073, 0.0011022136607896729, 0.0022495091752423304, 0.0005602108486037496, 0.000610769275964285, -0.00017971939911350272, -0.0018233845583356333, 0.0009651449183558709, -0.0013257748897864444, 0.0028508588636679197, -0.0034325495790792112, 0.0013919481520435326, -0.001534916689924677, 0.0018459632916631894, 0.0009859565070488015, -0.0006387637864287583, 0.004286691566692099, 0.001444122652827804, -0.00033213070376233246, 0.0005696076997807936, -0.0018850764282362124, 0.0010188124921818775, -0.0007028794106387604, -0.000242937575480497, -0.002334257612401332, 0.004636649826696048, -0.0002601008707617757, -0.00023634689141503184, 0.001609230058349257, 0.002606189539674149, 0.0028139471480395422, 0.0002723382302668683, 0.0024526402773731226, 0.0016379693377987046, -0.00020020198797886764, 0.0010256270619938396, 0.0049255165843277516, 0.0022646924957924323, 0.0007928521668445641, -0.004114022509576882, 0.0013316651241728297, -0.0007850479340695235]  \n",
            "B00X7B1OK4              [-0.0014669171228954892, 0.0014934889945149349, 0.0012201773656815764, 0.0010347141543460146, -0.0007210933054613725, -0.0036974794372023703, 0.003090329548227667, 0.003915761872827948, -0.0017419358004165226, -0.0011382686249098739, -0.0003772349197734583, -0.002958319354352523, -0.00033286790491135465, 0.00019042676481211395, 0.0006284799475167542, -0.002024951536972799, 0.0016649896120833293, -0.0027325343255649457, -0.0007557564796244654, -0.005609122228783584, 0.001760924106776623, 0.0011911507410257225, 0.0013677514856116426, -0.0007327909143609696, -0.0007999118764187125, 0.0012178940935853495, -0.002917280281886201, -0.002492225899963882, -0.001975451955510241, 0.0009768153147091004, 0.0026929593430345634, 0.0021493987312489115, 0.0006866444538617995, -0.0015645879722805268, -0.0019833067259059215, 0.004261083810577051, 0.00045385692783176355, -0.0028972794776505975, -0.002147804474198689, -0.005159519138041226, 0.0003723105455636574, -0.0021348213047356892, 0.0017640358575972724, -0.0004843680661113334, 0.0024840753636063504, -0.0009468759839630582, -0.002149759303405243, 0.0006798731422819384, 0.001507342041331369, 0.001401615123831684, 0.0006855013557033587, -0.001666977916143571, -0.0005387185595875934, -0.00043905512639248295, -0.0025384008389141544, 0.00011946277620619562, 0.0022104633485655976, -0.0006097242189192513, -0.0025060907176102524, 0.0010137061872394632, 0.002208140006026553, 0.0004477736716356435, 0.0006309999107833969, -0.0002482649703704563, -0.0018369906210366075, 0.001021113469061143, -0.0014352543886456443, 0.002828268732354109, -0.0034855136117705496, 0.001191950643526286, -0.0016091114570430298, 0.0017718967274174234, 0.001033199889721991, -0.0007518448229144501, 0.0040340649875236535, 0.0013035068152237221, -0.0002662751340061707, 0.0005804452343847067, -0.0019761858533639417, 0.0010328397326773142, -0.0007141471447439845, -0.0001598131359068368, -0.0022538383149134727, 0.004353178523509598, -0.0002826249714516588, -0.00025499345236428645, 0.0016052822395574437, 0.002504032186854319, 0.0027180215673144803, 6.87552406675194e-05, 0.0023032190819483804, 0.0016927011492641698, -8.635757256999078e-05, 0.0008750219593858761, 0.004917933575145328, 0.0023379249319306055, 0.000722948417351124, -0.0040420565661680825, 0.001296546683286861, -0.0007726592277205915]  \n",
            "B00JWTVNU6              [-0.0015727335514722739, 0.0014649678588094228, 0.0011469382374935924, 0.0010043629795396809, -0.0009154611456514706, -0.0036588874903066234, 0.0030164215380483615, 0.003927043012612727, -0.001841830983378946, -0.0010348721022066542, -0.0006006949991536013, -0.002964661764519067, -0.0005285563005430916, 0.0001726460197714068, 0.0005930450563535614, -0.0018803257068759913, 0.0017263329931708096, -0.002686048908427163, -0.0007633083618075457, -0.005821171356348164, 0.001695609864200801, 0.001215474989818853, 0.001394062673420575, -0.00077918287174408, -0.0007126201630864332, 0.0013680990172149398, -0.0030093440803263317, -0.002512695529189524, -0.002018024454378593, 0.0009422781866051928, 0.002724684880495472, 0.0020640109633034646, 0.0008539712878531603, -0.0015219494547467505, -0.002043095205205413, 0.004138702303012102, 0.0004168642516962664, -0.0029868670921978477, -0.0022165734051499343, -0.005314105508634468, 0.0003488600701445627, -0.0022095911409218557, 0.0018113755312380057, -0.0004393255627165186, 0.0024545791277358698, -0.0010802283056850577, -0.0020741207664561737, 0.0007259333485921542, 0.0014415844581171133, 0.001343070774888728, 0.0006595146628421579, -0.0017693513938020048, -0.0005782069679996714, -0.0003912002054739576, -0.0026026621056041413, 0.00017684643508102962, 0.002336636989453244, -0.0006288212233833525, -0.0025094200546994026, 0.001126670659158303, 0.0024201176922191694, 0.0004917174803775324, 0.0007207834389910838, -0.0001748888009789753, -0.0019167140313034313, 0.0009369320600790373, -0.0013813384886435774, 0.002851208540554115, -0.0034944628353831683, 0.0011252974372202812, -0.0016437249277788755, 0.0017441729250496664, 0.0009469103261687641, -0.0007323958670049039, 0.004251283511443627, 0.0015072160544446506, -0.00037484737823793103, 0.0007580295559100071, -0.0020593021052136887, 0.001008249675248598, -0.0007498031706639923, -0.00023732580884402418, -0.0023412380027070336, 0.004586644856080543, -0.00016494037625434008, -0.00019395529845158224, 0.001715844628119538, 0.0027211468204345586, 0.0027319588751239746, 8.857351382429506e-05, 0.0024706714064238844, 0.0017240757174942362, -8.997020468509723e-05, 0.0009778006854609229, 0.0049095415633082454, 0.002352426819155415, 0.0008997254177513749, -0.004061031503451252, 0.0012273549243704913, -0.0007120429077605327]  \n"
          ]
        }
      ]
    },
    {
      "cell_type": "markdown",
      "source": [
        "Hybrid Approach"
      ],
      "metadata": {
        "id": "-13RNr1iFYx-"
      }
    },
    {
      "cell_type": "code",
      "source": [
        "def get_hybrid_recommendations(user_id, cf_weight=0.7, cbf_weight=0.3, k=5):\n",
        "  # Get CF recommendations\n",
        "  cf_recs = get_item_based_recommendations(user_id, k=len(cbf_electronics))\n",
        "  cf_scores = {item: score for item, score in cf_recs}\n",
        "\n",
        "  # Get CBF recommendations\n",
        "  user_ratings = user_item_matrix.loc[user_id]\n",
        "  top_rated_item = user_ratings.idxmax()\n",
        "\n",
        "  cbf_recs = product_similarity_df[top_rated_item].sort_values(ascending=False)\n",
        "\n",
        "  # Combine scores\n",
        "  hybrid_scores = {}\n",
        "  all_items = set(cf_scores.keys()) | set(cbf_recs.index)\n",
        "\n",
        "  for item in all_items:\n",
        "    cf_score = cf_scores.get(item, 0)\n",
        "    cbf_score = cbf_recs.get(item, 0)\n",
        "\n",
        "    hybrid_scores[item] = (cf_score * cf_weight) + (cbf_score * cbf_weight)\n",
        "\n",
        "  sorted_hybrid_recs = sorted(hybrid_scores.items(), key=lambda x: x[1], reverse=True)\n",
        "  return sorted_hybrid_recs\n",
        "\n",
        "print(f\"\\n--- Hybrid Recommendations for user: {sample_user_id} ---\")\n",
        "print(get_hybrid_recommendations(sample_user_id, k=5)[:5])"
      ],
      "metadata": {
        "id": "eLpNVnKKQTNV",
        "colab": {
          "base_uri": "https://localhost:8080/"
        },
        "outputId": "202377a6-a616-40eb-bbea-d83709dcccd3"
      },
      "execution_count": 60,
      "outputs": [
        {
          "output_type": "stream",
          "name": "stdout",
          "text": [
            "\n",
            "--- Hybrid Recommendations for user: AEVWAM3YWN5URJVJIZZ6XPD2MKIA ---\n",
            "[('B001PL3XJS', 0.30000000000000004), ('B01L1HH5TY', 0.20868626654320174), ('B000067SPK', 0.20421859220722008), ('B00J7IHRPW', 0.20345386325999829), ('B00X7B1OK4', 0.20288198841763805)]\n"
          ]
        }
      ]
    },
    {
      "cell_type": "markdown",
      "source": [
        "User-Based CF recommends items based on similar users' preferences. It's good at uncovering surprising recommendations and requires no product data but suffers from scalability, sparsity, and cold-start issues for new users.\n",
        "\n",
        "Item-Based CF suggests items similar to those a user liked. It's more scalable and stable, handles new users better, and works well for static catalogs, but struggles with recommending new items and often repeats popular or obvious choices.\n",
        "\n",
        "Content-Based Filtering recommends items using product features like descriptions. It's ideal for new items and users with niche tastes and offers explainable results. However, it depends heavily on good metadata and tends to over-specialize.\n",
        "\n",
        "Hybrid Approaches combine CF and CBF to improve accuracy, diversity, and handle cold-start problems, but they are more complex to build and require careful tuning to balance the models."
      ],
      "metadata": {
        "id": "z0wsXYEJMRRG"
      }
    },
    {
      "cell_type": "markdown",
      "source": [
        "# **Task 3: Classification task - sentiment analysis**"
      ],
      "metadata": {
        "id": "OEukuinWFgOo"
      }
    },
    {
      "cell_type": "code",
      "source": [
        "# Read the csv file we created earlier\n",
        "electronics = pd.read_csv(\"electronics.csv\") # Remove this line\n",
        "electronics = electronics[['text', 'rating']] # Correct column selection\n",
        "\n",
        "# We drop all the NaN values from the dataset\n",
        "electronics.dropna(inplace=True)\n",
        "electronics.reset_index(drop=True, inplace=True)\n",
        "\n",
        "# These are the stop words that we will remove from the columns\n",
        "stop_words = set(stopwords.words('english'))\n",
        "\n",
        "def clean_text(text):\n",
        "  # We only keep the letters and the spaces and we transform them to lower case letters\n",
        "  cleaned_text = re.sub(r'[^a-zA-Z\\s]', '', str(text))\n",
        "  cleaned_text = cleaned_text.lower()\n",
        "\n",
        "  # We remove the stopwords\n",
        "  words = cleaned_text.split()\n",
        "  filtered_words = [word for word in words if word not in stop_words]\n",
        "\n",
        "  # We combine all the words to one string\n",
        "  text = ' '.join(filtered_words)\n",
        "  return text\n",
        "\n",
        "# Apply the preprocessing function to the description column\n",
        "electronics['processed_text'] = electronics['text'].apply(clean_text)\n",
        "\n",
        "# Create sentiment labels based on rating\n",
        "def to_sentiment(rating):\n",
        "    rating = int(rating)\n",
        "    if rating <= 2:\n",
        "        return 0  # Negative\n",
        "    elif rating == 3:\n",
        "        return 1  # Neutral\n",
        "    else:\n",
        "        return 2  # Positive\n",
        "\n",
        "electronics['sentiment'] = electronics['rating'].apply(to_sentiment)\n",
        "\n",
        "X_train, X_test, y_train, y_test = train_test_split(electronics['processed_text'], electronics['sentiment'], test_size=0.2, random_state=42, stratify=electronics['sentiment'])"
      ],
      "metadata": {
        "id": "qr1w33jOqdqg"
      },
      "execution_count": 61,
      "outputs": []
    },
    {
      "cell_type": "code",
      "source": [
        "tf_electronics_text = TfidfVectorizer(max_features=1000)\n",
        "train_electronics_text = tf_electronics_text.fit_transform(X_train)\n",
        "\n",
        "print(\"\\nTF-IDF Table for data:\")\n",
        "print(train_electronics_text)"
      ],
      "metadata": {
        "id": "FHFc2_9XvH_l",
        "colab": {
          "base_uri": "https://localhost:8080/"
        },
        "outputId": "f7eb97e4-5c64-42c2-f44a-22091c3efd35"
      },
      "execution_count": 34,
      "outputs": [
        {
          "output_type": "stream",
          "name": "stdout",
          "text": [
            "\n",
            "TF-IDF Table for data:\n",
            "  (0, 272)\t0.47685816870293435\n",
            "  (0, 669)\t0.5593997059794499\n",
            "  (0, 253)\t0.334083148318454\n",
            "  (0, 358)\t0.5899717839871825\n",
            "  (1, 105)\t0.4319433723606471\n",
            "  (1, 65)\t0.3555929986599345\n",
            "  (1, 476)\t0.44028537574731796\n",
            "  (1, 908)\t0.4268648808380358\n",
            "  (1, 59)\t0.33824172965668237\n",
            "  (1, 595)\t0.4432902391286951\n",
            "  (2, 320)\t0.491900287747801\n",
            "  (2, 523)\t0.46010883629664867\n",
            "  (2, 109)\t0.4563992937547485\n",
            "  (2, 175)\t0.364515642995756\n",
            "  (2, 924)\t0.3131464462045786\n",
            "  (2, 979)\t0.2553817332918766\n",
            "  (2, 353)\t0.20464962711231932\n",
            "  (3, 353)\t0.3823187358758034\n",
            "  (3, 662)\t0.5281667214366694\n",
            "  (3, 275)\t0.7582033358968867\n",
            "  (4, 954)\t0.26529880581832543\n",
            "  (4, 729)\t0.490872773439829\n",
            "  (4, 116)\t0.36030098947910355\n",
            "  (4, 27)\t0.4970357043598686\n",
            "  (4, 937)\t0.4681281112921734\n",
            "  :\t:\n",
            "  (3639, 659)\t0.10505026976689542\n",
            "  (3639, 435)\t0.12096508463581937\n",
            "  (3639, 716)\t0.12141975740399309\n",
            "  (3639, 677)\t0.09948100012525014\n",
            "  (3639, 106)\t0.4148155632934576\n",
            "  (3639, 413)\t0.13924903273233347\n",
            "  (3639, 398)\t0.12333421786340955\n",
            "  (3639, 772)\t0.12542295031309125\n",
            "  (3639, 978)\t0.10310881315564688\n",
            "  (3639, 808)\t0.14133776518201518\n",
            "  (3639, 329)\t0.1424579983041548\n",
            "  (3639, 121)\t0.10229597696324783\n",
            "  (3639, 956)\t0.1188177053484073\n",
            "  (3639, 560)\t0.1200818901927923\n",
            "  (3639, 878)\t0.1071711819338112\n",
            "  (3639, 577)\t0.12833319792881082\n",
            "  (3639, 230)\t0.11965271462267257\n",
            "  (3639, 756)\t0.1188177053484073\n",
            "  (3639, 623)\t0.25308636687046165\n",
            "  (3640, 654)\t0.2776386611799569\n",
            "  (3640, 723)\t0.3389797394349169\n",
            "  (3640, 191)\t0.3274905549462952\n",
            "  (3640, 680)\t0.49171937300685\n",
            "  (3640, 922)\t0.44734771302183585\n",
            "  (3640, 321)\t0.5087745358758515\n"
          ]
        }
      ]
    },
    {
      "cell_type": "code",
      "source": [
        "# Train the word2vec model\n",
        "sentences = [text.split() for text in X_train]\n",
        "word2vec_electronics = Word2Vec(sentences, vector_size=100, window=5, min_count=1, workers=4)\n",
        "\n",
        "# Δημιουργία χαρακτηριστικών Word Embeddings\n",
        "def get_document_vector(text, model):\n",
        "  # Split the text to tokens\n",
        "  tokens = text.split()\n",
        "\n",
        "  # Create a vector and initialize it to 0\n",
        "  vector = np.zeros(model.vector_size)\n",
        "  count = 0\n",
        "\n",
        "  # Iterate through all words\n",
        "  for word in tokens:\n",
        "    # If word exists in model add it to the document\n",
        "    if word in model.wv:\n",
        "      vector += model.wv[word]\n",
        "      count += 1\n",
        "  if count != 0:\n",
        "    vector /= count\n",
        "  return vector\n",
        "\n",
        "# Apply the get_document_vector function only to the training data (X_train)\n",
        "X_train_w2v = X_train.apply(lambda x: get_document_vector(x, word2vec_electronics))\n",
        "\n",
        "print(\"First 5 training set embeddings:\")\n",
        "for i in range(min(5, len(X_train_w2v))):\n",
        "    print(f\"Review {i+1} embedding:\", X_train_w2v.iloc[i])"
      ],
      "metadata": {
        "id": "PaesmCfxv07C",
        "colab": {
          "base_uri": "https://localhost:8080/"
        },
        "outputId": "7d668613-0510-4f99-c9b0-051830b53e0c"
      },
      "execution_count": 35,
      "outputs": [
        {
          "output_type": "stream",
          "name": "stdout",
          "text": [
            "First 5 training set embeddings:\n",
            "Review 1 embedding: [-0.02234297  0.39769326  0.19473572  0.03743622  0.09950537 -0.81372814\n",
            "  0.12187432  1.19105072 -0.23682224 -0.15008097 -0.32271956 -0.65743933\n",
            " -0.07248559  0.27160689  0.11785648 -0.44523001  0.05986261 -0.73005445\n",
            " -0.11101839 -0.89008656  0.32339739  0.08719138  0.43997563 -0.2321677\n",
            " -0.06393616 -0.12317101 -0.23083555 -0.29521351 -0.37133193  0.11759018\n",
            "  0.53349995 -0.02270923  0.1810362  -0.40105005 -0.14367443  0.5867046\n",
            "  0.01388659 -0.69315363 -0.28723674 -1.03745639  0.08147034 -0.42684495\n",
            " -0.22187474 -0.09109081  0.37243883 -0.1663863  -0.38444781  0.06515115\n",
            "  0.17579409  0.32208901  0.14209801 -0.32605719 -0.14886681 -0.07146822\n",
            " -0.26102101  0.28451931  0.37197217 -0.02857377 -0.58911408  0.034175\n",
            "  0.22123859  0.10736371 -0.24815527 -0.02636057 -0.66408224  0.48083725\n",
            "  0.25688754  0.228486   -0.89712426  0.64101823 -0.41738466  0.0722617\n",
            "  0.70552019 -0.19288858  0.40214321  0.15265646  0.02604772 -0.09748581\n",
            " -0.601777    0.25878697 -0.17762047 -0.14435125 -0.47408959  0.73612279\n",
            " -0.06336421 -0.03215248  0.16780447  0.53030828  0.55202626  0.16978935\n",
            "  0.53303834  0.15525765 -0.03046026  0.0353944   0.82781105  0.51627843\n",
            "  0.46563247 -0.51250712  0.06383064 -0.15661091]\n",
            "Review 2 embedding: [-1.13477127e-02  1.82330221e-01  9.11754005e-02  1.56754273e-02\n",
            "  4.98158706e-02 -3.80373608e-01  6.04264148e-02  5.61137629e-01\n",
            " -1.09877748e-01 -6.39388972e-02 -1.58209775e-01 -3.12269770e-01\n",
            " -2.60016532e-02  1.30876261e-01  4.74189725e-02 -2.11032461e-01\n",
            "  2.63968742e-02 -3.43001606e-01 -5.30230890e-02 -4.08222719e-01\n",
            "  1.52195174e-01  4.52107158e-02  2.07036006e-01 -1.08071602e-01\n",
            " -2.58475429e-02 -5.75212087e-02 -9.93281981e-02 -1.45487297e-01\n",
            " -1.75988802e-01  5.72027269e-02  2.52507408e-01 -1.41352433e-02\n",
            "  8.44476747e-02 -1.84325392e-01 -6.04554199e-02  2.75982366e-01\n",
            "  1.03462706e-04 -3.28703286e-01 -1.26105161e-01 -4.94309253e-01\n",
            "  4.20512648e-02 -1.98212887e-01 -1.01452010e-01 -4.72994547e-02\n",
            "  1.74839732e-01 -8.03782810e-02 -1.81139540e-01  3.31699551e-02\n",
            "  8.59630793e-02  1.50556536e-01  6.53369441e-02 -1.54148969e-01\n",
            " -7.75649482e-02 -3.75488241e-02 -1.19001452e-01  1.27439523e-01\n",
            "  1.69640694e-01 -2.02888473e-02 -2.83279351e-01  1.58488315e-02\n",
            "  1.02130212e-01  4.85243335e-02 -1.21749552e-01 -1.30182572e-02\n",
            " -3.08950435e-01  2.22210320e-01  1.13923450e-01  1.01281076e-01\n",
            " -4.24922062e-01  3.00954314e-01 -1.99335318e-01  2.97208869e-02\n",
            "  3.34741990e-01 -1.00485276e-01  1.96403738e-01  7.09794072e-02\n",
            "  1.15476579e-02 -5.01068731e-02 -2.89190845e-01  1.27780167e-01\n",
            " -8.49653989e-02 -7.33248802e-02 -2.27772573e-01  3.50074971e-01\n",
            " -2.98430996e-02 -6.54203107e-03  7.37032853e-02  2.52631738e-01\n",
            "  2.59095128e-01  8.21241453e-02  2.41593222e-01  6.95165044e-02\n",
            " -7.48520222e-03  1.48140225e-02  3.85495012e-01  2.43931422e-01\n",
            "  2.23404432e-01 -2.40543429e-01  3.17571943e-02 -7.56183315e-02]\n",
            "Review 3 embedding: [-0.02813477  0.41438913  0.20354277  0.04229653  0.10929598 -0.87088541\n",
            "  0.12941744  1.27801214 -0.23710293 -0.16136682 -0.34483448 -0.71046349\n",
            " -0.0761674   0.30235753  0.1213956  -0.46308605  0.07745722 -0.77724927\n",
            " -0.11322115 -0.94857192  0.34591931  0.10617253  0.47881368 -0.24627372\n",
            " -0.05629594 -0.12091407 -0.2310039  -0.31729914 -0.40319614  0.13363089\n",
            "  0.58322989 -0.02519372  0.20163937 -0.42765192 -0.14999407  0.62328475\n",
            "  0.01167993 -0.7383193  -0.29473665 -1.09872107  0.09428029 -0.45293274\n",
            " -0.2503978  -0.1103984   0.39512929 -0.18397528 -0.41737231  0.06049884\n",
            "  0.20248155  0.33520037  0.15389115 -0.34691788 -0.170795   -0.06639236\n",
            " -0.26929771  0.29393003  0.39796145 -0.03324037 -0.63081104  0.03855649\n",
            "  0.22599546  0.11611295 -0.26076787 -0.02505357 -0.69961247  0.50709985\n",
            "  0.26537734  0.22326827 -0.95369989  0.67870598 -0.44581521  0.07286116\n",
            "  0.74825876 -0.21140689  0.43914011  0.14178245  0.03351351 -0.10938585\n",
            " -0.64270895  0.28140333 -0.18443198 -0.16261358 -0.50158036  0.79081828\n",
            " -0.06827955 -0.0370062   0.17664276  0.56949639  0.58422319  0.17619897\n",
            "  0.5580837   0.17252657 -0.0138832   0.0353635   0.87781614  0.5381928\n",
            "  0.50263411 -0.54465509  0.06789528 -0.1561667 ]\n",
            "Review 4 embedding: [-0.04896438  0.50195377  0.24548548  0.06934356  0.11440889 -0.98064401\n",
            "  0.16258342  1.43002286 -0.2658521  -0.22015255 -0.36779972 -0.79833376\n",
            " -0.09271124  0.32639951  0.15414662 -0.51029961  0.12587461 -0.87099679\n",
            " -0.14123538 -1.09697425  0.40045666  0.14070398  0.53166283 -0.28567028\n",
            " -0.07409711 -0.10934872 -0.27638893 -0.35199563 -0.45844982  0.15097593\n",
            "  0.65718955 -0.01079644  0.22591613 -0.49036322 -0.18395503  0.71514985\n",
            "  0.03113107 -0.82590632 -0.34836297 -1.22225668  0.114346   -0.51463437\n",
            " -0.28143634 -0.11076181  0.45027705 -0.2060088  -0.47958604  0.04647399\n",
            "  0.23364929  0.36860044  0.17424745 -0.40181227 -0.19779451 -0.06417498\n",
            " -0.32953897  0.36297486  0.4571842  -0.02870974 -0.70887825  0.04963996\n",
            "  0.25636992  0.13414335 -0.27378644 -0.03345465 -0.77270109  0.58823484\n",
            "  0.2983599   0.26573059 -1.06562322  0.75783028 -0.50541128  0.0825999\n",
            "  0.83822195 -0.22700392  0.5017796   0.1617955   0.05332646 -0.10365512\n",
            " -0.72610532  0.30193386 -0.23294926 -0.17170565 -0.55519282  0.88568846\n",
            " -0.09777365 -0.05776575  0.22348725  0.64169903  0.66679017  0.16445761\n",
            "  0.63275947  0.20968353 -0.02368125  0.04873295  0.99868437  0.60433257\n",
            "  0.58649047 -0.61288432  0.05669055 -0.14780388]\n",
            "Review 5 embedding: [-0.02383552  0.33476648  0.16826668  0.03308274  0.08563719 -0.69955502\n",
            "  0.10969467  1.02345147 -0.19729485 -0.12218542 -0.28438007 -0.57395811\n",
            " -0.05851606  0.2475355   0.09779234 -0.38141437  0.0552996  -0.62490629\n",
            " -0.09228114 -0.76101514  0.28184498  0.08101858  0.38759093 -0.19690348\n",
            " -0.05085459 -0.09643372 -0.18278128 -0.26234098 -0.31887314  0.09885694\n",
            "  0.46679475 -0.01683503  0.15830361 -0.34684806 -0.11707789  0.50491961\n",
            "  0.01479725 -0.59704796 -0.24153119 -0.89322016  0.08086723 -0.36477853\n",
            " -0.19472674 -0.09112665  0.31752493 -0.14169815 -0.33899199  0.05303784\n",
            "  0.15315208  0.26916573  0.12392999 -0.28664824 -0.135962   -0.06198707\n",
            " -0.22275768  0.23506194  0.32166995 -0.03298091 -0.51548699  0.02644635\n",
            "  0.18142425  0.08615442 -0.21623718 -0.01746564 -0.56540047  0.41144502\n",
            "  0.21471403  0.18142947 -0.77481672  0.55359684 -0.36408039  0.0625849\n",
            "  0.60386588 -0.17041328  0.35905314  0.11887023  0.02758541 -0.08271728\n",
            " -0.52609672  0.23083057 -0.15373139 -0.1348463  -0.40539627  0.63266995\n",
            " -0.06115299 -0.02645034  0.13953214  0.4594766   0.46757796  0.14277565\n",
            "  0.44684203  0.12658842 -0.01606615  0.02427097  0.70053189  0.44538036\n",
            "  0.40662052 -0.43681316  0.05360959 -0.12364271]\n"
          ]
        }
      ]
    },
    {
      "cell_type": "code",
      "source": [
        "models = {\n",
        "    'TF-IDF_NB': Pipeline([('tfidf', TfidfVectorizer(max_features=5000)), ('nb', MultinomialNB())]),\n",
        "    'TF-IDF_KNN': Pipeline([('tfidf', TfidfVectorizer(max_features=5000)), ('knn', KNeighborsClassifier(n_neighbors=5))]),\n",
        "    'TF-IDF_Random Forest': Pipeline([('tfidf', TfidfVectorizer(max_features=5000)), ('rf', RandomForestClassifier(n_estimators=100, random_state=42))]),\n",
        "    'Embeddings_NB': GaussianNB(),\n",
        "    'Embeddings_KNN': KNeighborsClassifier(n_neighbors=5),\n",
        "    'Embeddings_Random Forest': RandomForestClassifier(n_estimators=100, random_state=42)\n",
        "}\n",
        "\n",
        "def evaluate_model_cv(model, X, y, scoring):\n",
        "  scores = cross_val_score(model, X, y, cv=10, scoring=scoring)\n",
        "  return scores.mean(), scores.std()\n",
        "\n",
        "cv_results = {}\n",
        "scoring_metrics = ['accuracy', 'precision_macro', 'recall_macro', 'f1_macro']\n",
        "\n",
        "print(\"\\nRunning 10-fold cross-validation... (This may take a while)\")\n",
        "\n",
        "# Convert X_train_w2v to a NumPy array for cross-validation\n",
        "X_train_w2v_array = np.array(X_train_w2v.tolist())\n",
        "\n",
        "for name, model in models.items():\n",
        "    print(f\"Evaluating {name}...\")\n",
        "    if 'TF-IDF' in name:\n",
        "        X_cv = X_train\n",
        "    else:\n",
        "        X_cv = X_train_w2v_array\n",
        "\n",
        "    for metric in scoring_metrics:\n",
        "        mean, std = evaluate_model_cv(model, X_cv, y_train, metric)\n",
        "        feature_set = 'TF-IDF' if 'TF-IDF' in name else 'Embeddings'\n",
        "        model_name = name.split('_')[1] if '_' in name else name\n",
        "        if (feature_set, model_name) not in cv_results:\n",
        "            cv_results[(feature_set, model_name)] = {}\n",
        "        cv_results[(feature_set, model_name)][metric] = f\"{mean:.3f} (+/- {std:.3f})\"\n",
        "\n",
        "print(\"Cross-validation complete.\")\n",
        "\n",
        "# --- Display CV results in a table ---\n",
        "cv_results_df = pd.DataFrame(cv_results).T\n",
        "cv_results_df.index.names = ['Feature Set', 'Model']\n",
        "cv_results_df.columns = ['Accuracy', 'Precision (Macro)', 'Recall (Macro)', 'F1-Score (Macro)']\n",
        "print(\"\\n--- 10-Fold Cross-Validation Results on Training Data ---\")\n",
        "print(cv_results_df)\n",
        "\n",
        "\n",
        "# --- Evaluate on the test set ---\n",
        "print(\"\\n--- Evaluating models on the Test Set ---\")\n",
        "\n",
        "# Convert X_test_w2v to a NumPy array for testing\n",
        "X_test_w2v = X_test.apply(lambda x: get_document_vector(x, word2vec_electronics))\n",
        "X_test_w2v_array = np.array(X_test_w2v.tolist())\n",
        "\n",
        "for name, model in models.items():\n",
        "    print(f\"Evaluating {name} on test set...\")\n",
        "    if 'TF-IDF' in name:\n",
        "        # For TF-IDF pipelines, fit and predict on the original text data\n",
        "        model.fit(X_train, y_train)\n",
        "        y_pred = model.predict(X_test)\n",
        "    else:\n",
        "        # Need to refit the embeddings models on the entire training data before testing\n",
        "        if name == 'Embeddings_NB':\n",
        "            model = GaussianNB()\n",
        "        elif name == 'Embeddings_KNN':\n",
        "            model = KNeighborsClassifier(n_neighbors=5)\n",
        "        elif name == 'Embeddings_Random Forest':\n",
        "            model = RandomForestClassifier(n_estimators=100, random_state=42)\n",
        "\n",
        "        model.fit(X_train_w2v_array, y_train)\n",
        "        y_pred = model.predict(X_test_w2v_array)\n",
        "\n",
        "\n",
        "    accuracy = accuracy_score(y_test, y_pred)\n",
        "    precision, recall, f1, _ = precision_recall_fscore_support(y_test, y_pred, average='weighted')\n",
        "    print(f'{name}:')\n",
        "    print(f'Accuracy: {accuracy:.3f}')\n",
        "    print(f'Precision: {precision:.3f}')\n",
        "    print(f'Recall: {recall:.3f}')\n",
        "    print(f'F1-Score: {f1:.3f}\\n')"
      ],
      "metadata": {
        "id": "vbByYTaR5gyA",
        "colab": {
          "base_uri": "https://localhost:8080/"
        },
        "outputId": "b44e275d-1042-4fdd-8a06-c2ac0d4ea96f"
      },
      "execution_count": 36,
      "outputs": [
        {
          "output_type": "stream",
          "name": "stdout",
          "text": [
            "\n",
            "Running 10-fold cross-validation... (This may take a while)\n",
            "Evaluating TF-IDF_NB...\n"
          ]
        },
        {
          "output_type": "stream",
          "name": "stderr",
          "text": [
            "/usr/local/lib/python3.11/dist-packages/sklearn/metrics/_classification.py:1565: UndefinedMetricWarning: Precision is ill-defined and being set to 0.0 in labels with no predicted samples. Use `zero_division` parameter to control this behavior.\n",
            "  _warn_prf(average, modifier, f\"{metric.capitalize()} is\", len(result))\n",
            "/usr/local/lib/python3.11/dist-packages/sklearn/metrics/_classification.py:1565: UndefinedMetricWarning: Precision is ill-defined and being set to 0.0 in labels with no predicted samples. Use `zero_division` parameter to control this behavior.\n",
            "  _warn_prf(average, modifier, f\"{metric.capitalize()} is\", len(result))\n",
            "/usr/local/lib/python3.11/dist-packages/sklearn/metrics/_classification.py:1565: UndefinedMetricWarning: Precision is ill-defined and being set to 0.0 in labels with no predicted samples. Use `zero_division` parameter to control this behavior.\n",
            "  _warn_prf(average, modifier, f\"{metric.capitalize()} is\", len(result))\n",
            "/usr/local/lib/python3.11/dist-packages/sklearn/metrics/_classification.py:1565: UndefinedMetricWarning: Precision is ill-defined and being set to 0.0 in labels with no predicted samples. Use `zero_division` parameter to control this behavior.\n",
            "  _warn_prf(average, modifier, f\"{metric.capitalize()} is\", len(result))\n",
            "/usr/local/lib/python3.11/dist-packages/sklearn/metrics/_classification.py:1565: UndefinedMetricWarning: Precision is ill-defined and being set to 0.0 in labels with no predicted samples. Use `zero_division` parameter to control this behavior.\n",
            "  _warn_prf(average, modifier, f\"{metric.capitalize()} is\", len(result))\n",
            "/usr/local/lib/python3.11/dist-packages/sklearn/metrics/_classification.py:1565: UndefinedMetricWarning: Precision is ill-defined and being set to 0.0 in labels with no predicted samples. Use `zero_division` parameter to control this behavior.\n",
            "  _warn_prf(average, modifier, f\"{metric.capitalize()} is\", len(result))\n",
            "/usr/local/lib/python3.11/dist-packages/sklearn/metrics/_classification.py:1565: UndefinedMetricWarning: Precision is ill-defined and being set to 0.0 in labels with no predicted samples. Use `zero_division` parameter to control this behavior.\n",
            "  _warn_prf(average, modifier, f\"{metric.capitalize()} is\", len(result))\n",
            "/usr/local/lib/python3.11/dist-packages/sklearn/metrics/_classification.py:1565: UndefinedMetricWarning: Precision is ill-defined and being set to 0.0 in labels with no predicted samples. Use `zero_division` parameter to control this behavior.\n",
            "  _warn_prf(average, modifier, f\"{metric.capitalize()} is\", len(result))\n",
            "/usr/local/lib/python3.11/dist-packages/sklearn/metrics/_classification.py:1565: UndefinedMetricWarning: Precision is ill-defined and being set to 0.0 in labels with no predicted samples. Use `zero_division` parameter to control this behavior.\n",
            "  _warn_prf(average, modifier, f\"{metric.capitalize()} is\", len(result))\n",
            "/usr/local/lib/python3.11/dist-packages/sklearn/metrics/_classification.py:1565: UndefinedMetricWarning: Precision is ill-defined and being set to 0.0 in labels with no predicted samples. Use `zero_division` parameter to control this behavior.\n",
            "  _warn_prf(average, modifier, f\"{metric.capitalize()} is\", len(result))\n"
          ]
        },
        {
          "output_type": "stream",
          "name": "stdout",
          "text": [
            "Evaluating TF-IDF_KNN...\n"
          ]
        },
        {
          "output_type": "stream",
          "name": "stderr",
          "text": [
            "/usr/local/lib/python3.11/dist-packages/sklearn/metrics/_classification.py:1565: UndefinedMetricWarning: Precision is ill-defined and being set to 0.0 in labels with no predicted samples. Use `zero_division` parameter to control this behavior.\n",
            "  _warn_prf(average, modifier, f\"{metric.capitalize()} is\", len(result))\n",
            "/usr/local/lib/python3.11/dist-packages/sklearn/metrics/_classification.py:1565: UndefinedMetricWarning: Precision is ill-defined and being set to 0.0 in labels with no predicted samples. Use `zero_division` parameter to control this behavior.\n",
            "  _warn_prf(average, modifier, f\"{metric.capitalize()} is\", len(result))\n",
            "/usr/local/lib/python3.11/dist-packages/sklearn/metrics/_classification.py:1565: UndefinedMetricWarning: Precision is ill-defined and being set to 0.0 in labels with no predicted samples. Use `zero_division` parameter to control this behavior.\n",
            "  _warn_prf(average, modifier, f\"{metric.capitalize()} is\", len(result))\n",
            "/usr/local/lib/python3.11/dist-packages/sklearn/metrics/_classification.py:1565: UndefinedMetricWarning: Precision is ill-defined and being set to 0.0 in labels with no predicted samples. Use `zero_division` parameter to control this behavior.\n",
            "  _warn_prf(average, modifier, f\"{metric.capitalize()} is\", len(result))\n",
            "/usr/local/lib/python3.11/dist-packages/sklearn/metrics/_classification.py:1565: UndefinedMetricWarning: Precision is ill-defined and being set to 0.0 in labels with no predicted samples. Use `zero_division` parameter to control this behavior.\n",
            "  _warn_prf(average, modifier, f\"{metric.capitalize()} is\", len(result))\n",
            "/usr/local/lib/python3.11/dist-packages/sklearn/metrics/_classification.py:1565: UndefinedMetricWarning: Precision is ill-defined and being set to 0.0 in labels with no predicted samples. Use `zero_division` parameter to control this behavior.\n",
            "  _warn_prf(average, modifier, f\"{metric.capitalize()} is\", len(result))\n",
            "/usr/local/lib/python3.11/dist-packages/sklearn/metrics/_classification.py:1565: UndefinedMetricWarning: Precision is ill-defined and being set to 0.0 in labels with no predicted samples. Use `zero_division` parameter to control this behavior.\n",
            "  _warn_prf(average, modifier, f\"{metric.capitalize()} is\", len(result))\n",
            "/usr/local/lib/python3.11/dist-packages/sklearn/metrics/_classification.py:1565: UndefinedMetricWarning: Precision is ill-defined and being set to 0.0 in labels with no predicted samples. Use `zero_division` parameter to control this behavior.\n",
            "  _warn_prf(average, modifier, f\"{metric.capitalize()} is\", len(result))\n",
            "/usr/local/lib/python3.11/dist-packages/sklearn/metrics/_classification.py:1565: UndefinedMetricWarning: Precision is ill-defined and being set to 0.0 in labels with no predicted samples. Use `zero_division` parameter to control this behavior.\n",
            "  _warn_prf(average, modifier, f\"{metric.capitalize()} is\", len(result))\n",
            "/usr/local/lib/python3.11/dist-packages/sklearn/metrics/_classification.py:1565: UndefinedMetricWarning: Precision is ill-defined and being set to 0.0 in labels with no predicted samples. Use `zero_division` parameter to control this behavior.\n",
            "  _warn_prf(average, modifier, f\"{metric.capitalize()} is\", len(result))\n"
          ]
        },
        {
          "output_type": "stream",
          "name": "stdout",
          "text": [
            "Evaluating TF-IDF_Random Forest...\n"
          ]
        },
        {
          "output_type": "stream",
          "name": "stderr",
          "text": [
            "/usr/local/lib/python3.11/dist-packages/sklearn/metrics/_classification.py:1565: UndefinedMetricWarning: Precision is ill-defined and being set to 0.0 in labels with no predicted samples. Use `zero_division` parameter to control this behavior.\n",
            "  _warn_prf(average, modifier, f\"{metric.capitalize()} is\", len(result))\n",
            "/usr/local/lib/python3.11/dist-packages/sklearn/metrics/_classification.py:1565: UndefinedMetricWarning: Precision is ill-defined and being set to 0.0 in labels with no predicted samples. Use `zero_division` parameter to control this behavior.\n",
            "  _warn_prf(average, modifier, f\"{metric.capitalize()} is\", len(result))\n",
            "/usr/local/lib/python3.11/dist-packages/sklearn/metrics/_classification.py:1565: UndefinedMetricWarning: Precision is ill-defined and being set to 0.0 in labels with no predicted samples. Use `zero_division` parameter to control this behavior.\n",
            "  _warn_prf(average, modifier, f\"{metric.capitalize()} is\", len(result))\n",
            "/usr/local/lib/python3.11/dist-packages/sklearn/metrics/_classification.py:1565: UndefinedMetricWarning: Precision is ill-defined and being set to 0.0 in labels with no predicted samples. Use `zero_division` parameter to control this behavior.\n",
            "  _warn_prf(average, modifier, f\"{metric.capitalize()} is\", len(result))\n",
            "/usr/local/lib/python3.11/dist-packages/sklearn/metrics/_classification.py:1565: UndefinedMetricWarning: Precision is ill-defined and being set to 0.0 in labels with no predicted samples. Use `zero_division` parameter to control this behavior.\n",
            "  _warn_prf(average, modifier, f\"{metric.capitalize()} is\", len(result))\n",
            "/usr/local/lib/python3.11/dist-packages/sklearn/metrics/_classification.py:1565: UndefinedMetricWarning: Precision is ill-defined and being set to 0.0 in labels with no predicted samples. Use `zero_division` parameter to control this behavior.\n",
            "  _warn_prf(average, modifier, f\"{metric.capitalize()} is\", len(result))\n"
          ]
        },
        {
          "output_type": "stream",
          "name": "stdout",
          "text": [
            "Evaluating Embeddings_NB...\n",
            "Evaluating Embeddings_KNN...\n",
            "Evaluating Embeddings_Random Forest...\n"
          ]
        },
        {
          "output_type": "stream",
          "name": "stderr",
          "text": [
            "/usr/local/lib/python3.11/dist-packages/sklearn/metrics/_classification.py:1565: UndefinedMetricWarning: Precision is ill-defined and being set to 0.0 in labels with no predicted samples. Use `zero_division` parameter to control this behavior.\n",
            "  _warn_prf(average, modifier, f\"{metric.capitalize()} is\", len(result))\n",
            "/usr/local/lib/python3.11/dist-packages/sklearn/metrics/_classification.py:1565: UndefinedMetricWarning: Precision is ill-defined and being set to 0.0 in labels with no predicted samples. Use `zero_division` parameter to control this behavior.\n",
            "  _warn_prf(average, modifier, f\"{metric.capitalize()} is\", len(result))\n",
            "/usr/local/lib/python3.11/dist-packages/sklearn/metrics/_classification.py:1565: UndefinedMetricWarning: Precision is ill-defined and being set to 0.0 in labels with no predicted samples. Use `zero_division` parameter to control this behavior.\n",
            "  _warn_prf(average, modifier, f\"{metric.capitalize()} is\", len(result))\n",
            "/usr/local/lib/python3.11/dist-packages/sklearn/metrics/_classification.py:1565: UndefinedMetricWarning: Precision is ill-defined and being set to 0.0 in labels with no predicted samples. Use `zero_division` parameter to control this behavior.\n",
            "  _warn_prf(average, modifier, f\"{metric.capitalize()} is\", len(result))\n",
            "/usr/local/lib/python3.11/dist-packages/sklearn/metrics/_classification.py:1565: UndefinedMetricWarning: Precision is ill-defined and being set to 0.0 in labels with no predicted samples. Use `zero_division` parameter to control this behavior.\n",
            "  _warn_prf(average, modifier, f\"{metric.capitalize()} is\", len(result))\n",
            "/usr/local/lib/python3.11/dist-packages/sklearn/metrics/_classification.py:1565: UndefinedMetricWarning: Precision is ill-defined and being set to 0.0 in labels with no predicted samples. Use `zero_division` parameter to control this behavior.\n",
            "  _warn_prf(average, modifier, f\"{metric.capitalize()} is\", len(result))\n",
            "/usr/local/lib/python3.11/dist-packages/sklearn/metrics/_classification.py:1565: UndefinedMetricWarning: Precision is ill-defined and being set to 0.0 in labels with no predicted samples. Use `zero_division` parameter to control this behavior.\n",
            "  _warn_prf(average, modifier, f\"{metric.capitalize()} is\", len(result))\n",
            "/usr/local/lib/python3.11/dist-packages/sklearn/metrics/_classification.py:1565: UndefinedMetricWarning: Precision is ill-defined and being set to 0.0 in labels with no predicted samples. Use `zero_division` parameter to control this behavior.\n",
            "  _warn_prf(average, modifier, f\"{metric.capitalize()} is\", len(result))\n"
          ]
        },
        {
          "output_type": "stream",
          "name": "stdout",
          "text": [
            "Cross-validation complete.\n",
            "\n",
            "--- 10-Fold Cross-Validation Results on Training Data ---\n",
            "                                    Accuracy  Precision (Macro)  \\\n",
            "Feature Set Model                                                 \n",
            "TF-IDF      NB             0.817 (+/- 0.001)  0.339 (+/- 0.134)   \n",
            "            KNN            0.817 (+/- 0.002)  0.473 (+/- 0.164)   \n",
            "            Random Forest  0.835 (+/- 0.009)  0.534 (+/- 0.058)   \n",
            "Embeddings  NB             0.388 (+/- 0.029)  0.394 (+/- 0.018)   \n",
            "            KNN            0.778 (+/- 0.019)  0.418 (+/- 0.062)   \n",
            "            Random Forest  0.815 (+/- 0.007)  0.431 (+/- 0.070)   \n",
            "\n",
            "                              Recall (Macro)   F1-Score (Macro)  \n",
            "Feature Set Model                                                \n",
            "TF-IDF      NB             0.335 (+/- 0.003)  0.303 (+/- 0.006)  \n",
            "            KNN            0.338 (+/- 0.004)  0.309 (+/- 0.008)  \n",
            "            Random Forest  0.397 (+/- 0.020)  0.407 (+/- 0.030)  \n",
            "Embeddings  NB             0.436 (+/- 0.042)  0.313 (+/- 0.025)  \n",
            "            KNN            0.377 (+/- 0.028)  0.383 (+/- 0.036)  \n",
            "            Random Forest  0.355 (+/- 0.012)  0.342 (+/- 0.019)  \n",
            "\n",
            "--- Evaluating models on the Test Set ---\n",
            "Evaluating TF-IDF_NB on test set...\n"
          ]
        },
        {
          "output_type": "stream",
          "name": "stderr",
          "text": [
            "/usr/local/lib/python3.11/dist-packages/sklearn/metrics/_classification.py:1565: UndefinedMetricWarning: Precision is ill-defined and being set to 0.0 in labels with no predicted samples. Use `zero_division` parameter to control this behavior.\n",
            "  _warn_prf(average, modifier, f\"{metric.capitalize()} is\", len(result))\n"
          ]
        },
        {
          "output_type": "stream",
          "name": "stdout",
          "text": [
            "TF-IDF_NB:\n",
            "Accuracy: 0.816\n",
            "Precision: 0.665\n",
            "Recall: 0.816\n",
            "F1-Score: 0.733\n",
            "\n",
            "Evaluating TF-IDF_KNN on test set...\n"
          ]
        },
        {
          "output_type": "stream",
          "name": "stderr",
          "text": [
            "/usr/local/lib/python3.11/dist-packages/sklearn/metrics/_classification.py:1565: UndefinedMetricWarning: Precision is ill-defined and being set to 0.0 in labels with no predicted samples. Use `zero_division` parameter to control this behavior.\n",
            "  _warn_prf(average, modifier, f\"{metric.capitalize()} is\", len(result))\n"
          ]
        },
        {
          "output_type": "stream",
          "name": "stdout",
          "text": [
            "TF-IDF_KNN:\n",
            "Accuracy: 0.817\n",
            "Precision: 0.780\n",
            "Recall: 0.817\n",
            "F1-Score: 0.735\n",
            "\n",
            "Evaluating TF-IDF_Random Forest on test set...\n",
            "TF-IDF_Random Forest:\n",
            "Accuracy: 0.831\n",
            "Precision: 0.760\n",
            "Recall: 0.831\n",
            "F1-Score: 0.775\n",
            "\n",
            "Evaluating Embeddings_NB on test set...\n",
            "Embeddings_NB:\n",
            "Accuracy: 0.431\n",
            "Precision: 0.744\n",
            "Recall: 0.431\n",
            "F1-Score: 0.513\n",
            "\n",
            "Evaluating Embeddings_KNN on test set...\n",
            "Embeddings_KNN:\n",
            "Accuracy: 0.776\n",
            "Precision: 0.703\n",
            "Recall: 0.776\n",
            "F1-Score: 0.732\n",
            "\n",
            "Evaluating Embeddings_Random Forest on test set...\n",
            "Embeddings_Random Forest:\n",
            "Accuracy: 0.812\n",
            "Precision: 0.718\n",
            "Recall: 0.812\n",
            "F1-Score: 0.739\n",
            "\n"
          ]
        }
      ]
    },
    {
      "cell_type": "markdown",
      "source": [
        "# **Task 4: Frequent Pattern Mining**"
      ],
      "metadata": {
        "id": "RfM53rCCiO0f"
      }
    },
    {
      "cell_type": "markdown",
      "source": [
        "Represent product purchases as transactions, where each\n",
        "transaction consists of products bought together by a customer"
      ],
      "metadata": {
        "id": "Gut_fMr3iVCv"
      }
    },
    {
      "cell_type": "code",
      "source": [
        "electronics = pd.read_csv(\"electronics.csv\")\n",
        "\n",
        "# Drop rows where values of the columns we'll be using later are missing\n",
        "electronics = electronics[['user_id', 'asin', 'timestamp', 'title']].dropna()\n",
        "\n",
        "# Convert timestamps to a year-month format\n",
        "electronics['timestamp'] = pd.to_datetime(electronics['timestamp'], unit='ms')\n",
        "electronics['year_month'] = electronics['timestamp'].dt.to_period('M')\n",
        "\n",
        "\n",
        "# Create a list of transactions and keep users who have bought at least 2 items\n",
        "transactions = electronics.groupby('user_id')['asin'].apply(list)\n",
        "transactions = transactions[transactions.str.len() >= 2].tolist()\n",
        "\n",
        "print(f\"Prepared {len(transactions)} transactions for analysis.\")\n",
        "print(\"\\nSample transactions (list of asins per user):\")\n",
        "print(transactions[:5])\n",
        "\n",
        "encoder = TransactionEncoder()\n",
        "transactions_encoder = encoder.fit(transactions).transform(transactions)\n",
        "transactions_onehot_electronics = pd.DataFrame(transactions_encoder, columns=encoder.columns_)\n",
        "\n",
        "print(\"\\nShape of the one-hot encoded transaction matrix:\", transactions_onehot_electronics.shape)\n",
        "print(\"\\nOne-Hot Encoded DataFrame Head:\")\n",
        "print(transactions_onehot_electronics.head())"
      ],
      "metadata": {
        "id": "jkmbZTV7KC_v",
        "colab": {
          "base_uri": "https://localhost:8080/"
        },
        "outputId": "95e5676c-671a-4e01-d774-51e856f39ec4"
      },
      "execution_count": 62,
      "outputs": [
        {
          "output_type": "stream",
          "name": "stdout",
          "text": [
            "Prepared 24 transactions for analysis.\n",
            "\n",
            "Sample transactions (list of asins per user):\n",
            "[['B00SMVLPIK', 'B00SNLIG5O'], ['B0BDSMLQ6K', 'B01MA1YK26'], ['B0811T3SYV', 'B004C04Q18'], ['B07WGBNQ9R', 'B071WYXY6B'], ['B082YB4RJH', 'B00BXCDOH0']]\n",
            "\n",
            "Shape of the one-hot encoded transaction matrix: (24, 59)\n",
            "\n",
            "One-Hot Encoded DataFrame Head:\n",
            "   B000067SPK  B0009YU7Z0  B000A0CV9S  B0013F6HK8  B003JQLPYC  B004C04Q18  \\\n",
            "0       False       False       False       False       False       False   \n",
            "1       False       False       False       False       False       False   \n",
            "2       False       False       False       False       False        True   \n",
            "3       False       False       False       False       False       False   \n",
            "4       False       False       False       False       False       False   \n",
            "\n",
            "   B006K260T2  B00BXCDOH0  B00DQDEH3O  B00GBBSTEG  B00I0F192U  B00IF0JAIU  \\\n",
            "0       False       False       False       False       False       False   \n",
            "1       False       False       False       False       False       False   \n",
            "2       False       False       False       False       False       False   \n",
            "3       False       False       False       False       False       False   \n",
            "4       False        True       False       False       False       False   \n",
            "\n",
            "   B00J7IHRPW  B00JWTVNU6  B00LEFU2EY  B00NH11PEY  B00NH11R3I  B00SMVLPIK  \\\n",
            "0       False       False       False       False       False        True   \n",
            "1       False       False       False       False       False       False   \n",
            "2       False       False       False       False       False       False   \n",
            "3       False       False       False       False       False       False   \n",
            "4       False       False       False       False       False       False   \n",
            "\n",
            "   B00SNLIG5O  B00X7B1OK4  B0107OAJ7C  B0134EW7G8  B016W492K6  B01FM51NGW  \\\n",
            "0        True       False       False       False       False       False   \n",
            "1       False       False       False       False       False       False   \n",
            "2       False       False       False       False       False       False   \n",
            "3       False       False       False       False       False       False   \n",
            "4       False       False       False       False       False       False   \n",
            "\n",
            "   B01GO244R2  B01L1HH5TY  B01MA1YK26  B06WWQ7KLV  B071P4QD5R  B071WYXY6B  \\\n",
            "0       False       False       False       False       False       False   \n",
            "1       False       False        True       False       False       False   \n",
            "2       False       False       False       False       False       False   \n",
            "3       False       False       False       False       False        True   \n",
            "4       False       False       False       False       False       False   \n",
            "\n",
            "   B072LX99L9  B076VKZQ67  B078HNTH41  B079K963KG  B079NKJ6K5  B07D4GXQTM  \\\n",
            "0       False       False       False       False       False       False   \n",
            "1       False       False       False       False       False       False   \n",
            "2       False       False       False       False       False       False   \n",
            "3       False       False       False       False       False       False   \n",
            "4       False       False       False       False       False       False   \n",
            "\n",
            "   B07FGW11RG  B07K18BMWR  B07K7L4FMV  B07LBL7FZW  B07SXK61NJ  B07WGBNQ9R  \\\n",
            "0       False       False       False       False       False       False   \n",
            "1       False       False       False       False       False       False   \n",
            "2       False       False       False       False       False       False   \n",
            "3       False       False       False       False       False        True   \n",
            "4       False       False       False       False       False       False   \n",
            "\n",
            "   B07Y84SCR6  B07ZZ595TG  B0811T3SYV  B082F75Y7F  B082T6GVG9  B082T6K8ZP  \\\n",
            "0       False       False       False       False       False       False   \n",
            "1       False       False       False       False       False       False   \n",
            "2       False       False        True       False       False       False   \n",
            "3       False       False       False       False       False       False   \n",
            "4       False       False       False       False       False       False   \n",
            "\n",
            "   B082YB4RJH  B083169BMW  B0852844YB  B087K9L3R5  B08F2DNYXB  B08H4XZ6LQ  \\\n",
            "0       False       False       False       False       False       False   \n",
            "1       False       False       False       False       False       False   \n",
            "2       False       False       False       False       False       False   \n",
            "3       False       False       False       False       False       False   \n",
            "4        True       False       False       False       False       False   \n",
            "\n",
            "   B08L9T2L7J  B08R6936N6  B08ZJS1W37  B0B583ZZ3P  B0BDSMLQ6K  \n",
            "0       False       False       False       False       False  \n",
            "1       False       False       False       False        True  \n",
            "2       False       False       False       False       False  \n",
            "3       False       False       False       False       False  \n",
            "4       False       False       False       False       False  \n"
          ]
        }
      ]
    },
    {
      "cell_type": "markdown",
      "source": [
        "Apply the Apriori algorithm to identify frequent itemsets (sets\n",
        "of products that are often bought together)"
      ],
      "metadata": {
        "id": "OkcfB7QJiZHS"
      }
    },
    {
      "cell_type": "code",
      "source": [
        "# Find frequent itemsets using Apriori\n",
        "frequent_itemsets = apriori(transactions_onehot_electronics, min_support=0.001, use_colnames=True)\n",
        "\n",
        "print(\"\\n--- Frequent Itemsets (Top 10) ---\")\n",
        "print(frequent_itemsets.sort_values('support', ascending=False).head(10))\n",
        "\n",
        "# Generate Association Rules with a lift greater than 1\n",
        "rules = association_rules(frequent_itemsets, metric=\"lift\", min_threshold=1)\n",
        "\n",
        "# Sort by lift and confidence\n",
        "sorted_rules = rules.sort_values(['lift', 'confidence'], ascending=[False, False])\n",
        "\n",
        "print(\"\\n\\n--- Top Association Rules (Sorted by Lift) ---\")\n",
        "print(sorted_rules[[\n",
        "    'antecedents',\n",
        "    'consequents',\n",
        "    'support',\n",
        "    'confidence',\n",
        "    'lift'\n",
        "]].head(10))"
      ],
      "metadata": {
        "colab": {
          "base_uri": "https://localhost:8080/"
        },
        "id": "qedlbv5VSrMd",
        "outputId": "52469e9b-4859-4b7e-86b2-eefc1e542f04"
      },
      "execution_count": 66,
      "outputs": [
        {
          "output_type": "stream",
          "name": "stdout",
          "text": [
            "\n",
            "--- Frequent Itemsets (Top 10) ---\n",
            "      support                              itemsets\n",
            "0    0.041667                          (B000067SPK)\n",
            "162  0.041667  (B076VKZQ67, B08H4XZ6LQ, B079NKJ6K5)\n",
            "150  0.041667  (B076VKZQ67, B08H4XZ6LQ, B0134EW7G8)\n",
            "151  0.041667  (B0134EW7G8, B079NKJ6K5, B07K18BMWR)\n",
            "152  0.041667  (B0134EW7G8, B08H4XZ6LQ, B079NKJ6K5)\n",
            "153  0.041667  (B08H4XZ6LQ, B0134EW7G8, B07K18BMWR)\n",
            "154  0.041667  (B06WWQ7KLV, B07K7L4FMV, B08L9T2L7J)\n",
            "155  0.041667  (B076VKZQ67, B079NKJ6K5, B072LX99L9)\n",
            "156  0.041667  (B076VKZQ67, B07K18BMWR, B072LX99L9)\n",
            "157  0.041667  (B076VKZQ67, B08H4XZ6LQ, B072LX99L9)\n",
            "\n",
            "\n",
            "--- Top Association Rules (Sorted by Lift) ---\n",
            "    antecedents   consequents   support  confidence  lift\n",
            "0  (B00GBBSTEG)  (B000067SPK)  0.041667         1.0  24.0\n",
            "1  (B000067SPK)  (B00GBBSTEG)  0.041667         1.0  24.0\n",
            "2  (B0009YU7Z0)  (B00I0F192U)  0.041667         1.0  24.0\n",
            "3  (B00I0F192U)  (B0009YU7Z0)  0.041667         1.0  24.0\n",
            "4  (B06WWQ7KLV)  (B0009YU7Z0)  0.041667         1.0  24.0\n",
            "5  (B0009YU7Z0)  (B06WWQ7KLV)  0.041667         1.0  24.0\n",
            "6  (B0009YU7Z0)  (B07K7L4FMV)  0.041667         1.0  24.0\n",
            "7  (B07K7L4FMV)  (B0009YU7Z0)  0.041667         1.0  24.0\n",
            "8  (B0009YU7Z0)  (B08L9T2L7J)  0.041667         1.0  24.0\n",
            "9  (B08L9T2L7J)  (B0009YU7Z0)  0.041667         1.0  24.0\n"
          ]
        }
      ]
    },
    {
      "cell_type": "markdown",
      "source": [
        "Discover patterns that are specific to certain time intervals, such\n",
        "as seasonality or holiday promotions."
      ],
      "metadata": {
        "id": "bBsevjMkidTU"
      }
    },
    {
      "cell_type": "code",
      "source": [
        "# We will use the data for a specific period\n",
        "jan_2020_electronics = electronics[electronics['year_month'] == '2019-12']\n",
        "\n",
        "# Create a list of transactions and keep users who have bought at least 2 items\n",
        "transactions_temporal = jan_2020_electronics.groupby('user_id')['asin'].apply(list)\n",
        "transactions_temporal = transactions_temporal[transactions_temporal.str.len() >= 1].tolist()\n",
        "\n",
        "print(f\"\\nPrepared {len(transactions_temporal)} temporal transactions for analysis (January 2020).\")\n",
        "print(\"\\nSample temporal transactions (list of asins per user in Jan 2020):\")\n",
        "print(transactions_temporal[:5])\n",
        "\n",
        "# Find frequent itemsets using Apriori\n",
        "encoder_temporal = TransactionEncoder()\n",
        "transactions_encoder_temporal = encoder_temporal.fit(transactions_temporal).transform(transactions_temporal)\n",
        "temporal_onehot_electronics = pd.DataFrame(transactions_encoder_temporal, columns=encoder_temporal.columns_)\n",
        "\n",
        "print(\"\\nShape of the one-hot encoded temporal transaction matrix:\", temporal_onehot_electronics.shape)\n",
        "print(\"\\nTemporal One-Hot Encoded DataFrame Head:\")\n",
        "temporal_onehot_electronics.head()\n",
        "\n",
        "\n",
        "# --- Find frequent itemsets for the temporal data\n",
        "frequent_itemsets_temporal = apriori(temporal_onehot_electronics, min_support=0.001, use_colnames=True)\n",
        "\n",
        "print(\"\\n--- Frequent Temporal Itemsets (Top 10) ---\")\n",
        "display(frequent_itemsets_temporal.sort_values('support', ascending=False).head(10))\n",
        "\n",
        "\n",
        "# Generate Association Rules with a lift greater than 1.\n",
        "rules_temporal = association_rules(frequent_itemsets_temporal, metric=\"lift\", min_threshold=1)\n",
        "\n",
        "# Sort by lift and confidence\n",
        "sorted_rules_temporal = rules_temporal.sort_values(['lift', 'confidence'], ascending=[False, False])\n",
        "\n",
        "print(\"\\n\\n--- Top Temporal Association Rules (Sorted by Lift) ---\")\n",
        "display(sorted_rules_temporal[[\n",
        "    'antecedents',\n",
        "    'consequents',\n",
        "    'support',\n",
        "    'confidence',\n",
        "    'lift'\n",
        "]].head(10))"
      ],
      "metadata": {
        "colab": {
          "base_uri": "https://localhost:8080/",
          "height": 638
        },
        "id": "ZBLOB67eY_uT",
        "outputId": "590bcffb-1999-4735-e6c7-91cd725e3b27"
      },
      "execution_count": 64,
      "outputs": [
        {
          "output_type": "stream",
          "name": "stdout",
          "text": [
            "\n",
            "Prepared 10 temporal transactions for analysis (January 2020).\n",
            "\n",
            "Sample temporal transactions (list of asins per user in Jan 2020):\n",
            "[['B078HP8WTL'], ['B013XJLCGU'], ['B07WGBNQ9R'], ['B00NH11PEY'], ['B017ED099C']]\n",
            "\n",
            "Shape of the one-hot encoded temporal transaction matrix: (10, 10)\n",
            "\n",
            "Temporal One-Hot Encoded DataFrame Head:\n",
            "\n",
            "--- Frequent Temporal Itemsets (Top 10) ---\n"
          ]
        },
        {
          "output_type": "display_data",
          "data": {
            "text/plain": [
              "   support      itemsets\n",
              "0      0.1  (B00NH11PEY)\n",
              "1      0.1  (B013XJLCGU)\n",
              "2      0.1  (B017ED099C)\n",
              "3      0.1  (B01N6UAXKP)\n",
              "4      0.1  (B078HNTH41)\n",
              "5      0.1  (B078HP8WTL)\n",
              "6      0.1  (B07CVW4YCR)\n",
              "7      0.1  (B07NYTZ7M1)\n",
              "8      0.1  (B07RLSYHN9)\n",
              "9      0.1  (B07WGBNQ9R)"
            ],
            "text/html": [
              "\n",
              "  <div id=\"df-54531f01-28cd-45a5-bba4-e57c10c07676\" class=\"colab-df-container\">\n",
              "    <div>\n",
              "<style scoped>\n",
              "    .dataframe tbody tr th:only-of-type {\n",
              "        vertical-align: middle;\n",
              "    }\n",
              "\n",
              "    .dataframe tbody tr th {\n",
              "        vertical-align: top;\n",
              "    }\n",
              "\n",
              "    .dataframe thead th {\n",
              "        text-align: right;\n",
              "    }\n",
              "</style>\n",
              "<table border=\"1\" class=\"dataframe\">\n",
              "  <thead>\n",
              "    <tr style=\"text-align: right;\">\n",
              "      <th></th>\n",
              "      <th>support</th>\n",
              "      <th>itemsets</th>\n",
              "    </tr>\n",
              "  </thead>\n",
              "  <tbody>\n",
              "    <tr>\n",
              "      <th>0</th>\n",
              "      <td>0.1</td>\n",
              "      <td>(B00NH11PEY)</td>\n",
              "    </tr>\n",
              "    <tr>\n",
              "      <th>1</th>\n",
              "      <td>0.1</td>\n",
              "      <td>(B013XJLCGU)</td>\n",
              "    </tr>\n",
              "    <tr>\n",
              "      <th>2</th>\n",
              "      <td>0.1</td>\n",
              "      <td>(B017ED099C)</td>\n",
              "    </tr>\n",
              "    <tr>\n",
              "      <th>3</th>\n",
              "      <td>0.1</td>\n",
              "      <td>(B01N6UAXKP)</td>\n",
              "    </tr>\n",
              "    <tr>\n",
              "      <th>4</th>\n",
              "      <td>0.1</td>\n",
              "      <td>(B078HNTH41)</td>\n",
              "    </tr>\n",
              "    <tr>\n",
              "      <th>5</th>\n",
              "      <td>0.1</td>\n",
              "      <td>(B078HP8WTL)</td>\n",
              "    </tr>\n",
              "    <tr>\n",
              "      <th>6</th>\n",
              "      <td>0.1</td>\n",
              "      <td>(B07CVW4YCR)</td>\n",
              "    </tr>\n",
              "    <tr>\n",
              "      <th>7</th>\n",
              "      <td>0.1</td>\n",
              "      <td>(B07NYTZ7M1)</td>\n",
              "    </tr>\n",
              "    <tr>\n",
              "      <th>8</th>\n",
              "      <td>0.1</td>\n",
              "      <td>(B07RLSYHN9)</td>\n",
              "    </tr>\n",
              "    <tr>\n",
              "      <th>9</th>\n",
              "      <td>0.1</td>\n",
              "      <td>(B07WGBNQ9R)</td>\n",
              "    </tr>\n",
              "  </tbody>\n",
              "</table>\n",
              "</div>\n",
              "    <div class=\"colab-df-buttons\">\n",
              "\n",
              "  <div class=\"colab-df-container\">\n",
              "    <button class=\"colab-df-convert\" onclick=\"convertToInteractive('df-54531f01-28cd-45a5-bba4-e57c10c07676')\"\n",
              "            title=\"Convert this dataframe to an interactive table.\"\n",
              "            style=\"display:none;\">\n",
              "\n",
              "  <svg xmlns=\"http://www.w3.org/2000/svg\" height=\"24px\" viewBox=\"0 -960 960 960\">\n",
              "    <path d=\"M120-120v-720h720v720H120Zm60-500h600v-160H180v160Zm220 220h160v-160H400v160Zm0 220h160v-160H400v160ZM180-400h160v-160H180v160Zm440 0h160v-160H620v160ZM180-180h160v-160H180v160Zm440 0h160v-160H620v160Z\"/>\n",
              "  </svg>\n",
              "    </button>\n",
              "\n",
              "  <style>\n",
              "    .colab-df-container {\n",
              "      display:flex;\n",
              "      gap: 12px;\n",
              "    }\n",
              "\n",
              "    .colab-df-convert {\n",
              "      background-color: #E8F0FE;\n",
              "      border: none;\n",
              "      border-radius: 50%;\n",
              "      cursor: pointer;\n",
              "      display: none;\n",
              "      fill: #1967D2;\n",
              "      height: 32px;\n",
              "      padding: 0 0 0 0;\n",
              "      width: 32px;\n",
              "    }\n",
              "\n",
              "    .colab-df-convert:hover {\n",
              "      background-color: #E2EBFA;\n",
              "      box-shadow: 0px 1px 2px rgba(60, 64, 67, 0.3), 0px 1px 3px 1px rgba(60, 64, 67, 0.15);\n",
              "      fill: #174EA6;\n",
              "    }\n",
              "\n",
              "    .colab-df-buttons div {\n",
              "      margin-bottom: 4px;\n",
              "    }\n",
              "\n",
              "    [theme=dark] .colab-df-convert {\n",
              "      background-color: #3B4455;\n",
              "      fill: #D2E3FC;\n",
              "    }\n",
              "\n",
              "    [theme=dark] .colab-df-convert:hover {\n",
              "      background-color: #434B5C;\n",
              "      box-shadow: 0px 1px 3px 1px rgba(0, 0, 0, 0.15);\n",
              "      filter: drop-shadow(0px 1px 2px rgba(0, 0, 0, 0.3));\n",
              "      fill: #FFFFFF;\n",
              "    }\n",
              "  </style>\n",
              "\n",
              "    <script>\n",
              "      const buttonEl =\n",
              "        document.querySelector('#df-54531f01-28cd-45a5-bba4-e57c10c07676 button.colab-df-convert');\n",
              "      buttonEl.style.display =\n",
              "        google.colab.kernel.accessAllowed ? 'block' : 'none';\n",
              "\n",
              "      async function convertToInteractive(key) {\n",
              "        const element = document.querySelector('#df-54531f01-28cd-45a5-bba4-e57c10c07676');\n",
              "        const dataTable =\n",
              "          await google.colab.kernel.invokeFunction('convertToInteractive',\n",
              "                                                    [key], {});\n",
              "        if (!dataTable) return;\n",
              "\n",
              "        const docLinkHtml = 'Like what you see? Visit the ' +\n",
              "          '<a target=\"_blank\" href=https://colab.research.google.com/notebooks/data_table.ipynb>data table notebook</a>'\n",
              "          + ' to learn more about interactive tables.';\n",
              "        element.innerHTML = '';\n",
              "        dataTable['output_type'] = 'display_data';\n",
              "        await google.colab.output.renderOutput(dataTable, element);\n",
              "        const docLink = document.createElement('div');\n",
              "        docLink.innerHTML = docLinkHtml;\n",
              "        element.appendChild(docLink);\n",
              "      }\n",
              "    </script>\n",
              "  </div>\n",
              "\n",
              "\n",
              "    <div id=\"df-b639360e-3d32-4dfa-a8f8-c5fb994536a3\">\n",
              "      <button class=\"colab-df-quickchart\" onclick=\"quickchart('df-b639360e-3d32-4dfa-a8f8-c5fb994536a3')\"\n",
              "                title=\"Suggest charts\"\n",
              "                style=\"display:none;\">\n",
              "\n",
              "<svg xmlns=\"http://www.w3.org/2000/svg\" height=\"24px\"viewBox=\"0 0 24 24\"\n",
              "     width=\"24px\">\n",
              "    <g>\n",
              "        <path d=\"M19 3H5c-1.1 0-2 .9-2 2v14c0 1.1.9 2 2 2h14c1.1 0 2-.9 2-2V5c0-1.1-.9-2-2-2zM9 17H7v-7h2v7zm4 0h-2V7h2v10zm4 0h-2v-4h2v4z\"/>\n",
              "    </g>\n",
              "</svg>\n",
              "      </button>\n",
              "\n",
              "<style>\n",
              "  .colab-df-quickchart {\n",
              "      --bg-color: #E8F0FE;\n",
              "      --fill-color: #1967D2;\n",
              "      --hover-bg-color: #E2EBFA;\n",
              "      --hover-fill-color: #174EA6;\n",
              "      --disabled-fill-color: #AAA;\n",
              "      --disabled-bg-color: #DDD;\n",
              "  }\n",
              "\n",
              "  [theme=dark] .colab-df-quickchart {\n",
              "      --bg-color: #3B4455;\n",
              "      --fill-color: #D2E3FC;\n",
              "      --hover-bg-color: #434B5C;\n",
              "      --hover-fill-color: #FFFFFF;\n",
              "      --disabled-bg-color: #3B4455;\n",
              "      --disabled-fill-color: #666;\n",
              "  }\n",
              "\n",
              "  .colab-df-quickchart {\n",
              "    background-color: var(--bg-color);\n",
              "    border: none;\n",
              "    border-radius: 50%;\n",
              "    cursor: pointer;\n",
              "    display: none;\n",
              "    fill: var(--fill-color);\n",
              "    height: 32px;\n",
              "    padding: 0;\n",
              "    width: 32px;\n",
              "  }\n",
              "\n",
              "  .colab-df-quickchart:hover {\n",
              "    background-color: var(--hover-bg-color);\n",
              "    box-shadow: 0 1px 2px rgba(60, 64, 67, 0.3), 0 1px 3px 1px rgba(60, 64, 67, 0.15);\n",
              "    fill: var(--button-hover-fill-color);\n",
              "  }\n",
              "\n",
              "  .colab-df-quickchart-complete:disabled,\n",
              "  .colab-df-quickchart-complete:disabled:hover {\n",
              "    background-color: var(--disabled-bg-color);\n",
              "    fill: var(--disabled-fill-color);\n",
              "    box-shadow: none;\n",
              "  }\n",
              "\n",
              "  .colab-df-spinner {\n",
              "    border: 2px solid var(--fill-color);\n",
              "    border-color: transparent;\n",
              "    border-bottom-color: var(--fill-color);\n",
              "    animation:\n",
              "      spin 1s steps(1) infinite;\n",
              "  }\n",
              "\n",
              "  @keyframes spin {\n",
              "    0% {\n",
              "      border-color: transparent;\n",
              "      border-bottom-color: var(--fill-color);\n",
              "      border-left-color: var(--fill-color);\n",
              "    }\n",
              "    20% {\n",
              "      border-color: transparent;\n",
              "      border-left-color: var(--fill-color);\n",
              "      border-top-color: var(--fill-color);\n",
              "    }\n",
              "    30% {\n",
              "      border-color: transparent;\n",
              "      border-left-color: var(--fill-color);\n",
              "      border-top-color: var(--fill-color);\n",
              "      border-right-color: var(--fill-color);\n",
              "    }\n",
              "    40% {\n",
              "      border-color: transparent;\n",
              "      border-right-color: var(--fill-color);\n",
              "      border-top-color: var(--fill-color);\n",
              "    }\n",
              "    60% {\n",
              "      border-color: transparent;\n",
              "      border-right-color: var(--fill-color);\n",
              "    }\n",
              "    80% {\n",
              "      border-color: transparent;\n",
              "      border-right-color: var(--fill-color);\n",
              "      border-bottom-color: var(--fill-color);\n",
              "    }\n",
              "    90% {\n",
              "      border-color: transparent;\n",
              "      border-bottom-color: var(--fill-color);\n",
              "    }\n",
              "  }\n",
              "</style>\n",
              "\n",
              "      <script>\n",
              "        async function quickchart(key) {\n",
              "          const quickchartButtonEl =\n",
              "            document.querySelector('#' + key + ' button');\n",
              "          quickchartButtonEl.disabled = true;  // To prevent multiple clicks.\n",
              "          quickchartButtonEl.classList.add('colab-df-spinner');\n",
              "          try {\n",
              "            const charts = await google.colab.kernel.invokeFunction(\n",
              "                'suggestCharts', [key], {});\n",
              "          } catch (error) {\n",
              "            console.error('Error during call to suggestCharts:', error);\n",
              "          }\n",
              "          quickchartButtonEl.classList.remove('colab-df-spinner');\n",
              "          quickchartButtonEl.classList.add('colab-df-quickchart-complete');\n",
              "        }\n",
              "        (() => {\n",
              "          let quickchartButtonEl =\n",
              "            document.querySelector('#df-b639360e-3d32-4dfa-a8f8-c5fb994536a3 button');\n",
              "          quickchartButtonEl.style.display =\n",
              "            google.colab.kernel.accessAllowed ? 'block' : 'none';\n",
              "        })();\n",
              "      </script>\n",
              "    </div>\n",
              "\n",
              "    </div>\n",
              "  </div>\n"
            ],
            "application/vnd.google.colaboratory.intrinsic+json": {
              "type": "dataframe",
              "summary": "{\n  \"name\": \"]]\",\n  \"rows\": 10,\n  \"fields\": [\n    {\n      \"column\": \"support\",\n      \"properties\": {\n        \"dtype\": \"number\",\n        \"std\": 1.4628472785736255e-17,\n        \"min\": 0.1,\n        \"max\": 0.1,\n        \"num_unique_values\": 1,\n        \"samples\": [\n          0.1\n        ],\n        \"semantic_type\": \"\",\n        \"description\": \"\"\n      }\n    },\n    {\n      \"column\": \"itemsets\",\n      \"properties\": {\n        \"dtype\": \"string\",\n        \"num_unique_values\": 10,\n        \"samples\": [\n          \"frozenset({'B07RLSYHN9'})\"\n        ],\n        \"semantic_type\": \"\",\n        \"description\": \"\"\n      }\n    }\n  ]\n}"
            }
          },
          "metadata": {}
        },
        {
          "output_type": "stream",
          "name": "stdout",
          "text": [
            "\n",
            "\n",
            "--- Top Temporal Association Rules (Sorted by Lift) ---\n"
          ]
        },
        {
          "output_type": "display_data",
          "data": {
            "text/plain": [
              "Empty DataFrame\n",
              "Columns: [antecedents, consequents, support, confidence, lift]\n",
              "Index: []"
            ],
            "text/html": [
              "\n",
              "  <div id=\"df-b53a3c7c-90d4-4d30-9e73-7e2d5b6c6d46\" class=\"colab-df-container\">\n",
              "    <div>\n",
              "<style scoped>\n",
              "    .dataframe tbody tr th:only-of-type {\n",
              "        vertical-align: middle;\n",
              "    }\n",
              "\n",
              "    .dataframe tbody tr th {\n",
              "        vertical-align: top;\n",
              "    }\n",
              "\n",
              "    .dataframe thead th {\n",
              "        text-align: right;\n",
              "    }\n",
              "</style>\n",
              "<table border=\"1\" class=\"dataframe\">\n",
              "  <thead>\n",
              "    <tr style=\"text-align: right;\">\n",
              "      <th></th>\n",
              "      <th>antecedents</th>\n",
              "      <th>consequents</th>\n",
              "      <th>support</th>\n",
              "      <th>confidence</th>\n",
              "      <th>lift</th>\n",
              "    </tr>\n",
              "  </thead>\n",
              "  <tbody>\n",
              "  </tbody>\n",
              "</table>\n",
              "</div>\n",
              "    <div class=\"colab-df-buttons\">\n",
              "\n",
              "  <div class=\"colab-df-container\">\n",
              "    <button class=\"colab-df-convert\" onclick=\"convertToInteractive('df-b53a3c7c-90d4-4d30-9e73-7e2d5b6c6d46')\"\n",
              "            title=\"Convert this dataframe to an interactive table.\"\n",
              "            style=\"display:none;\">\n",
              "\n",
              "  <svg xmlns=\"http://www.w3.org/2000/svg\" height=\"24px\" viewBox=\"0 -960 960 960\">\n",
              "    <path d=\"M120-120v-720h720v720H120Zm60-500h600v-160H180v160Zm220 220h160v-160H400v160Zm0 220h160v-160H400v160ZM180-400h160v-160H180v160Zm440 0h160v-160H620v160ZM180-180h160v-160H180v160Zm440 0h160v-160H620v160Z\"/>\n",
              "  </svg>\n",
              "    </button>\n",
              "\n",
              "  <style>\n",
              "    .colab-df-container {\n",
              "      display:flex;\n",
              "      gap: 12px;\n",
              "    }\n",
              "\n",
              "    .colab-df-convert {\n",
              "      background-color: #E8F0FE;\n",
              "      border: none;\n",
              "      border-radius: 50%;\n",
              "      cursor: pointer;\n",
              "      display: none;\n",
              "      fill: #1967D2;\n",
              "      height: 32px;\n",
              "      padding: 0 0 0 0;\n",
              "      width: 32px;\n",
              "    }\n",
              "\n",
              "    .colab-df-convert:hover {\n",
              "      background-color: #E2EBFA;\n",
              "      box-shadow: 0px 1px 2px rgba(60, 64, 67, 0.3), 0px 1px 3px 1px rgba(60, 64, 67, 0.15);\n",
              "      fill: #174EA6;\n",
              "    }\n",
              "\n",
              "    .colab-df-buttons div {\n",
              "      margin-bottom: 4px;\n",
              "    }\n",
              "\n",
              "    [theme=dark] .colab-df-convert {\n",
              "      background-color: #3B4455;\n",
              "      fill: #D2E3FC;\n",
              "    }\n",
              "\n",
              "    [theme=dark] .colab-df-convert:hover {\n",
              "      background-color: #434B5C;\n",
              "      box-shadow: 0px 1px 3px 1px rgba(0, 0, 0, 0.15);\n",
              "      filter: drop-shadow(0px 1px 2px rgba(0, 0, 0, 0.3));\n",
              "      fill: #FFFFFF;\n",
              "    }\n",
              "  </style>\n",
              "\n",
              "    <script>\n",
              "      const buttonEl =\n",
              "        document.querySelector('#df-b53a3c7c-90d4-4d30-9e73-7e2d5b6c6d46 button.colab-df-convert');\n",
              "      buttonEl.style.display =\n",
              "        google.colab.kernel.accessAllowed ? 'block' : 'none';\n",
              "\n",
              "      async function convertToInteractive(key) {\n",
              "        const element = document.querySelector('#df-b53a3c7c-90d4-4d30-9e73-7e2d5b6c6d46');\n",
              "        const dataTable =\n",
              "          await google.colab.kernel.invokeFunction('convertToInteractive',\n",
              "                                                    [key], {});\n",
              "        if (!dataTable) return;\n",
              "\n",
              "        const docLinkHtml = 'Like what you see? Visit the ' +\n",
              "          '<a target=\"_blank\" href=https://colab.research.google.com/notebooks/data_table.ipynb>data table notebook</a>'\n",
              "          + ' to learn more about interactive tables.';\n",
              "        element.innerHTML = '';\n",
              "        dataTable['output_type'] = 'display_data';\n",
              "        await google.colab.output.renderOutput(dataTable, element);\n",
              "        const docLink = document.createElement('div');\n",
              "        docLink.innerHTML = docLinkHtml;\n",
              "        element.appendChild(docLink);\n",
              "      }\n",
              "    </script>\n",
              "  </div>\n",
              "\n",
              "\n",
              "    </div>\n",
              "  </div>\n"
            ],
            "application/vnd.google.colaboratory.intrinsic+json": {
              "type": "dataframe",
              "repr_error": "Out of range float values are not JSON compliant: nan"
            }
          },
          "metadata": {}
        }
      ]
    }
  ]
}
